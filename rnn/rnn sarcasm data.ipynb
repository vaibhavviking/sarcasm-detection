{
 "cells": [
  {
   "cell_type": "code",
   "execution_count": 1,
   "metadata": {},
   "outputs": [
    {
     "name": "stderr",
     "output_type": "stream",
     "text": [
      "2022-05-06 14:07:46.185947: W tensorflow/stream_executor/platform/default/dso_loader.cc:64] Could not load dynamic library 'libcudart.so.11.0'; dlerror: libcudart.so.11.0: cannot open shared object file: No such file or directory\n",
      "2022-05-06 14:07:46.185967: I tensorflow/stream_executor/cuda/cudart_stub.cc:29] Ignore above cudart dlerror if you do not have a GPU set up on your machine.\n"
     ]
    }
   ],
   "source": [
    "import numpy as np\n",
    "import pandas as pd\n",
    "import re\n",
    "from keras.preprocessing.text import Tokenizer\n",
    "from sklearn.utils import shuffle\n",
    "from matplotlib import pyplot as plt\n",
    "from keras.models import Sequential, load_model\n",
    "from keras.layers import LSTM, Dense, Dropout, Embedding, Masking, Bidirectional\n",
    "from tensorflow.keras.optimizers import Adam\n",
    "from keras.preprocessing.sequence import pad_sequences\n",
    "from tensorflow.keras.utils import plot_model\n",
    "\n",
    "RANDOM_STATE = 50"
   ]
  },
  {
   "cell_type": "code",
   "execution_count": 6,
   "metadata": {},
   "outputs": [],
   "source": [
    "def format_sequence(s):\n",
    "    s =  re.sub(r'(?<=[^\\s0-9])(?=[.,;?])', r' ', s)\n",
    "    s = re.sub(r'\\((\\d+)\\)', r'', s)\n",
    "    s = re.sub(r'\\s\\s', ' ', s)\n",
    "    s = re.sub(r\"[^A-Za-z0-9(),!?\\'`]\", \" \", s)\n",
    "    s = re.sub(r\"\\'s\", \" \\'s\", s)\n",
    "    s = re.sub(r\"\\'ve\", \" \\'ve\", s)\n",
    "    s = re.sub(r\"n\\'t\", \" n\\'t\", s)\n",
    "    s = re.sub(r\"\\'re\", \" \\'re\", s)\n",
    "    s = re.sub(r\"\\'d\", \" \\'d\", s)\n",
    "    s = re.sub(r\"\\'ll\", \" \\'ll\", s)\n",
    "    s = re.sub(r\",\", \" , \", s)\n",
    "    s = re.sub(r\"!\", \" ! \", s)\n",
    "    s = re.sub(r\"\\\"\", \" \\\" \", s)\n",
    "    s = re.sub(r\"\\(\", \" ( \", s)\n",
    "    s = re.sub(r\"\\)\", \" ) \", s)\n",
    "    s = re.sub(r\"\\?\", \" ? \", s)\n",
    "    s = re.sub(r\"\\s{2,}\", \" \", s)\n",
    "    s = re.sub(r\"\\.\", \" . \", s)\n",
    "    s = re.sub(r\"., \", \" , \", s)\n",
    "    s = re.sub(r\"\\\\n\", \" \", s)\n",
    "    return s.strip().lower()\n",
    "\n",
    "def make_sequences(arr,lower=True,filters='!\"#$%&()*+,-./:;<=>?@[\\\\]^_`{|}~\\t\\n'):\n",
    "    tokenizer = Tokenizer(lower=lower, filters=filters)\n",
    "    tokenizer.fit_on_texts(arr)\n",
    "\n",
    "    word_idx = tokenizer.word_index\n",
    "    idx_word = tokenizer.index_word\n",
    "    num_words = len(word_idx) + 1\n",
    "    word_counts = tokenizer.word_counts\n",
    "\n",
    "    features = tokenizer.texts_to_sequences(arr)\n",
    "    \n",
    "    print(f'There are {len(features)} sequences.')\n",
    "\n",
    "    features = np.array(features)\n",
    "\n",
    "    return word_idx,idx_word,num_words,word_counts,features\n",
    "\n",
    "def create_train_valid(features,labels,num_words,train_fraction = 0.9,max_valid=1000):\n",
    "\n",
    "    features,labels = shuffle(features,labels,random_state = RANDOM_STATE)\n",
    "\n",
    "    train_end = max(int(train_fraction*len(labels)),len(labels)-max_valid)\n",
    "\n",
    "    train_features = np.asarray(features[:train_end])\n",
    "    valid_features = np.asarray(features[train_end:])\n",
    "\n",
    "    train_labels = np.asarray(labels[:train_end])\n",
    "    valid_labels = np.asarray(labels[train_end:])\n",
    "    \n",
    "    return train_features,valid_features,train_labels,valid_labels"
   ]
  },
  {
   "cell_type": "code",
   "execution_count": 4,
   "metadata": {},
   "outputs": [
    {
     "name": "stderr",
     "output_type": "stream",
     "text": [
      "[nltk_data] Downloading package stopwords to\n",
      "[nltk_data]     /home/vaibhav/nltk_data...\n",
      "[nltk_data]   Package stopwords is already up-to-date!\n",
      "[nltk_data] Downloading package punkt to /home/vaibhav/nltk_data...\n",
      "[nltk_data]   Package punkt is already up-to-date!\n",
      "[nltk_data] Downloading package averaged_perceptron_tagger to\n",
      "[nltk_data]     /home/vaibhav/nltk_data...\n",
      "[nltk_data]   Package averaged_perceptron_tagger is already up-to-\n",
      "[nltk_data]       date!\n",
      "[nltk_data] Downloading package wordnet to /home/vaibhav/nltk_data...\n",
      "[nltk_data]   Package wordnet is already up-to-date!\n"
     ]
    }
   ],
   "source": [
    "import nltk\n",
    "from nltk.corpus import stopwords\n",
    "from nltk.stem import WordNetLemmatizer\n",
    "import re\n",
    "nltk.download('stopwords')\n",
    "nltk.download('punkt')\n",
    "nltk.download('averaged_perceptron_tagger')\n",
    "nltk.download('wordnet')\n",
    "lem = WordNetLemmatizer()"
   ]
  },
  {
   "cell_type": "code",
   "execution_count": 7,
   "metadata": {},
   "outputs": [
    {
     "name": "stdout",
     "output_type": "stream",
     "text": [
      "There are 690 sequences.\n"
     ]
    },
    {
     "name": "stderr",
     "output_type": "stream",
     "text": [
      "/tmp/ipykernel_10604/2228468107.py:3: FutureWarning: The default value of regex will change from True to False in a future version.\n",
      "  data['text'].str.replace('[^a-zA-Z]', ' ')\n",
      "/tmp/ipykernel_10604/3118896198.py:37: VisibleDeprecationWarning: Creating an ndarray from ragged nested sequences (which is a list-or-tuple of lists-or-tuples-or ndarrays with different lengths or shapes) is deprecated. If you meant to do this, you must specify 'dtype=object' when creating the ndarray.\n",
      "  features = np.array(features)\n"
     ]
    }
   ],
   "source": [
    "data = pd.read_csv('sarcasm_data.csv').dropna(axis=0,how='any')\n",
    "# print(data.columns)\n",
    "data['text'].str.replace('[^a-zA-Z]', ' ')\n",
    "\n",
    "text = [format_sequence(a) for a in data['text'].to_list()]\n",
    "labels = data['sarcasm'].to_list()\n",
    "\n",
    "lower = False\n",
    "filters = '!\"%;[\\\\]^_`{|}~\\t\\n'\n",
    "\n",
    "word_idx,idx_word,num_words,word_counts,features = make_sequences(text,lower,filters)\n",
    "X_train, X_valid, y_train, y_valid = create_train_valid(features,labels,num_words,train_fraction=0.9)\n",
    "training_dict = {'X_train': X_train, 'X_valid': X_valid,'y_train': y_train, 'y_valid': y_valid}\n",
    "\n"
   ]
  },
  {
   "cell_type": "code",
   "execution_count": 8,
   "metadata": {},
   "outputs": [],
   "source": [
    "glove_loc = '/home/vaibhav/Desktop/class_stuff/glove.6B.100d.txt'\n",
    "glove = np.loadtxt(glove_loc,dtype='str',comments=None)\n",
    "vectors = glove[:,1:].astype('float')\n",
    "words = glove[:,0]\n",
    "\n",
    "del glove"
   ]
  },
  {
   "cell_type": "code",
   "execution_count": 9,
   "metadata": {},
   "outputs": [
    {
     "name": "stdout",
     "output_type": "stream",
     "text": [
      "49 words not found.\n"
     ]
    }
   ],
   "source": [
    "word_lookup = {word:vector for word,vector in zip(words,vectors)}\n",
    "\n",
    "embedding_matrix = np.zeros((num_words, vectors.shape[1]))\n",
    "\n",
    "not_found = 0\n",
    "\n",
    "for i,word in enumerate(word_idx.keys()):\n",
    "    vector = word_lookup.get(word,None)\n",
    "\n",
    "    if vector is not None:\n",
    "        embedding_matrix[i+1,:] = vector\n",
    "    else:\n",
    "        not_found +=1\n",
    "\n",
    "embedding_matrix = np.nan_to_num(embedding_matrix)\n",
    "\n",
    "print(f'{not_found} words not found.')"
   ]
  },
  {
   "cell_type": "code",
   "execution_count": 12,
   "metadata": {},
   "outputs": [
    {
     "name": "stdout",
     "output_type": "stream",
     "text": [
      "(621, 73) (621,) (69, 43) (69,)\n",
      "Epoch 1/20\n",
      "10/10 [==============================] - 5s 116ms/step - loss: 0.6922 - accuracy: 0.5121 - val_loss: 0.6940 - val_accuracy: 0.4783\n",
      "Epoch 2/20\n",
      "10/10 [==============================] - 1s 82ms/step - loss: 0.6917 - accuracy: 0.4960 - val_loss: 0.6978 - val_accuracy: 0.4058\n",
      "Epoch 3/20\n",
      "10/10 [==============================] - 1s 79ms/step - loss: 0.6880 - accuracy: 0.5427 - val_loss: 0.7009 - val_accuracy: 0.4058\n",
      "Epoch 4/20\n",
      "10/10 [==============================] - 1s 79ms/step - loss: 0.6902 - accuracy: 0.5121 - val_loss: 0.6886 - val_accuracy: 0.6087\n",
      "Epoch 5/20\n",
      "10/10 [==============================] - 1s 82ms/step - loss: 0.6776 - accuracy: 0.5588 - val_loss: 0.6786 - val_accuracy: 0.6232\n",
      "Epoch 6/20\n",
      "10/10 [==============================] - 1s 80ms/step - loss: 0.6685 - accuracy: 0.5749 - val_loss: 0.7085 - val_accuracy: 0.5217\n",
      "Epoch 7/20\n",
      "10/10 [==============================] - 1s 78ms/step - loss: 0.6683 - accuracy: 0.5942 - val_loss: 0.6744 - val_accuracy: 0.6087\n",
      "Epoch 8/20\n",
      "10/10 [==============================] - 1s 82ms/step - loss: 0.6589 - accuracy: 0.6039 - val_loss: 0.6572 - val_accuracy: 0.6377\n",
      "Epoch 9/20\n",
      "10/10 [==============================] - 1s 80ms/step - loss: 0.6599 - accuracy: 0.6023 - val_loss: 0.6603 - val_accuracy: 0.5942\n",
      "Epoch 10/20\n",
      "10/10 [==============================] - 1s 85ms/step - loss: 0.6500 - accuracy: 0.6135 - val_loss: 0.6545 - val_accuracy: 0.6377\n",
      "Epoch 11/20\n",
      "10/10 [==============================] - 1s 83ms/step - loss: 0.6308 - accuracy: 0.6441 - val_loss: 0.6965 - val_accuracy: 0.5362\n",
      "Epoch 12/20\n",
      "10/10 [==============================] - 1s 81ms/step - loss: 0.6293 - accuracy: 0.6377 - val_loss: 0.6587 - val_accuracy: 0.6667\n",
      "Epoch 13/20\n",
      "10/10 [==============================] - 1s 79ms/step - loss: 0.6045 - accuracy: 0.6731 - val_loss: 0.6618 - val_accuracy: 0.6232\n",
      "Epoch 14/20\n",
      "10/10 [==============================] - 1s 83ms/step - loss: 0.5921 - accuracy: 0.7037 - val_loss: 0.6368 - val_accuracy: 0.6667\n",
      "Epoch 15/20\n",
      "10/10 [==============================] - 1s 81ms/step - loss: 0.6004 - accuracy: 0.6828 - val_loss: 0.6588 - val_accuracy: 0.6522\n",
      "Epoch 16/20\n",
      "10/10 [==============================] - 1s 78ms/step - loss: 0.5834 - accuracy: 0.6908 - val_loss: 0.6452 - val_accuracy: 0.6812\n",
      "Epoch 17/20\n",
      "10/10 [==============================] - 1s 79ms/step - loss: 0.5779 - accuracy: 0.6973 - val_loss: 0.6604 - val_accuracy: 0.6667\n",
      "Epoch 18/20\n",
      "10/10 [==============================] - 1s 80ms/step - loss: 0.6029 - accuracy: 0.6844 - val_loss: 0.6935 - val_accuracy: 0.5507\n",
      "Epoch 19/20\n",
      "10/10 [==============================] - 1s 78ms/step - loss: 0.5706 - accuracy: 0.7085 - val_loss: 0.6459 - val_accuracy: 0.6667\n",
      "Epoch 20/20\n",
      "10/10 [==============================] - 1s 78ms/step - loss: 0.5503 - accuracy: 0.7488 - val_loss: 0.6552 - val_accuracy: 0.5942\n",
      "INFO:tensorflow:Assets written to: model1/assets\n"
     ]
    },
    {
     "name": "stderr",
     "output_type": "stream",
     "text": [
      "INFO:tensorflow:Assets written to: model1/assets\n",
      "WARNING:absl:<keras.layers.recurrent.LSTMCell object at 0x7fe51d025460> has the same name 'LSTMCell' as a built-in Keras object. Consider renaming <class 'keras.layers.recurrent.LSTMCell'> to avoid naming conflicts when loading with `tf.keras.models.load_model`. If renaming is not possible, pass the object in the `custom_objects` parameter of the load function.\n",
      "WARNING:absl:<keras.layers.recurrent.LSTMCell object at 0x7fe51d021e50> has the same name 'LSTMCell' as a built-in Keras object. Consider renaming <class 'keras.layers.recurrent.LSTMCell'> to avoid naming conflicts when loading with `tf.keras.models.load_model`. If renaming is not possible, pass the object in the `custom_objects` parameter of the load function.\n"
     ]
    },
    {
     "name": "stdout",
     "output_type": "stream",
     "text": [
      "10/10 [==============================] - 1s 17ms/step - loss: 0.5042 - accuracy: 0.7681\n",
      "2/2 [==============================] - 0s 10ms/step - loss: 0.6552 - accuracy: 0.5942\n"
     ]
    },
    {
     "data": {
      "text/plain": [
       "[0.6551663875579834, 0.5942028760910034]"
      ]
     },
     "execution_count": 12,
     "metadata": {},
     "output_type": "execute_result"
    }
   ],
   "source": [
    "model = Sequential()\n",
    "\n",
    "model.add(Embedding(input_dim=len(word_idx)+1,output_dim=100,weights=[embedding_matrix],trainable=False))\n",
    "\n",
    "model.add(Bidirectional(LSTM(64,return_sequences=False,dropout=0.2,recurrent_dropout=0.3)))\n",
    "\n",
    "# model.add(Bidirectional(LSTM(64,return_sequences=False,dropout=0.3,recurrent_dropout=0.1)))\n",
    "\n",
    "model.add(Dense(64,activation='relu'))\n",
    "\n",
    "model.add(Dense(32,activation='relu'))\n",
    "\n",
    "model.add(Dense(16,activation='relu'))\n",
    "\n",
    "model.add(Dropout(0.5))\n",
    "\n",
    "model.add(Dense(1,activation='sigmoid'))\n",
    "\n",
    "model.compile(optimizer='Adam',loss='binary_crossentropy',metrics=['accuracy'])\n",
    "\n",
    "x = np.array(training_dict['X_train'])\n",
    "y = np.array(training_dict['y_train']).astype(np.float32)\n",
    "\n",
    "\n",
    "u = np.array(training_dict['X_valid'])\n",
    "v = np.array(training_dict['y_valid']).astype(np.float32)\n",
    "\n",
    "# model = load_model('./models/model1')\n",
    "\n",
    "u =     pad_sequences(u,padding=\"post\")\n",
    "x =     pad_sequences(x,padding=\"post\")\n",
    "\n",
    "print(x.shape,y.shape,u.shape,v.shape)\n",
    "\n",
    "history = model.fit(x, y, epochs = 20, batch_size = 64, \n",
    "        validation_data = (u,v),\n",
    "        verbose = 1)\n",
    "\n",
    "model.save('./models/model2')\n",
    "\n",
    "model.evaluate(x,y,batch_size=64)\n",
    "model.evaluate(u,v,batch_size=64)\n"
   ]
  },
  {
   "cell_type": "code",
   "execution_count": 13,
   "metadata": {},
   "outputs": [
    {
     "data": {
      "image/png": "[encoded data removed]",
      "text/plain": [
       "<Figure size 432x288 with 1 Axes>"
      ]
     },
     "metadata": {
      "needs_background": "light"
     },
     "output_type": "display_data"
    }
   ],
   "source": [
    "plt.plot(history.history['accuracy'])\n",
    "plt.plot(history.history['val_accuracy'])\n",
    "plt.title('model accuracy')\n",
    "plt.ylabel('accuracy')\n",
    "plt.xlabel('epoch')\n",
    "plt.legend(['train', 'val'], loc='upper left')\n",
    "plt.show()"
   ]
  },
  {
   "cell_type": "code",
   "execution_count": 14,
   "metadata": {},
   "outputs": [
    {
     "data": {
      "image/png": "[encoded data removed]",
      "text/plain": [
       "<Figure size 432x288 with 1 Axes>"
      ]
     },
     "metadata": {
      "needs_background": "light"
     },
     "output_type": "display_data"
    }
   ],
   "source": [
    "plt.plot(history.history['loss'])\n",
    "plt.plot(history.history['val_loss'])\n",
    "plt.title('model loss')\n",
    "plt.ylabel('loss')\n",
    "plt.xlabel('epoch')\n",
    "plt.legend(['train', 'val'], loc='upper left')\n",
    "plt.show()"
   ]
  },
  {
   "cell_type": "code",
   "execution_count": null,
   "metadata": {},
   "outputs": [],
   "source": [
    "from IPython.display import Image\n",
    "model_name = 'model1'\n",
    "model_dir = './models/'\n",
    "\n",
    "plot_model(model, to_file=f'{model_dir}{model_name}.png', show_shapes=True)\n",
    "\n",
    "Image(f'{model_dir}{model_name}.png')\n",
    "\n"
   ]
  },
  {
   "cell_type": "code",
   "execution_count": null,
   "metadata": {},
   "outputs": [],
   "source": [
    "str = ['']\n",
    "\n",
    "tokenizer = Tokenizer(lower=lower, filters=filters)\n",
    "tokenizer.fit_on_texts(str)\n",
    "\n",
    "tx = tokenizer.texts_to_sequences(str)\n",
    "print(tx)\n",
    "print(model.predict(tx)[0])"
   ]
  }
 ],
 "metadata": {
  "interpreter": {
   "hash": "8296d0786e9b384ebb7f91942e232033740bae4a9ae1f1bba7a3651c8060b4f0"
  },
  "kernelspec": {
   "display_name": "Python 3.9.7 ('base')",
   "language": "python",
   "name": "python3"
  },
  "language_info": {
   "codemirror_mode": {
    "name": "ipython",
    "version": 3
   },
   "file_extension": ".py",
   "mimetype": "text/x-python",
   "name": "python",
   "nbconvert_exporter": "python",
   "pygments_lexer": "ipython3",
   "version": "3.9.7"
  },
  "orig_nbformat": 4
 },
 "nbformat": 4,
 "nbformat_minor": 2
}
