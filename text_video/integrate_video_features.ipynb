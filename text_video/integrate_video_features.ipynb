{
  "nbformat": 4,
  "nbformat_minor": 0,
  "metadata": {
    "colab": {
      "provenance": [],
      "collapsed_sections": []
    },
    "kernelspec": {
      "name": "python3",
      "display_name": "Python 3"
    },
    "language_info": {
      "name": "python"
    }
  },
  "cells": [
    {
      "cell_type": "code",
      "source": [
        "import pandas as pd\n",
        "import numpy as np\n",
        "import json\n",
        "import pickle\n",
        "import keras\n",
        "import tensorflow as tf\n",
        "from keras.models import Sequential, load_model\n",
        "from keras.layers import LSTM, Dense, Dropout, Embedding, Masking, Bidirectional, Input, Flatten\n",
        "from tensorflow.keras.optimizers import Adam\n",
        "from tensorflow.keras.layers import Flatten"
      ],
      "metadata": {
        "id": "W-1rzL2DAr6l"
      },
      "execution_count": 76,
      "outputs": []
    },
    {
      "cell_type": "code",
      "source": [
        "df = pd.read_csv('/content/drive/MyDrive/btp/sarcasm_with_id.csv')\n",
        "\n",
        "embeddings = pickle.load(open('/content/drive/MyDrive/btp/sarcasm_aug_embeddings.pkl','rb'))\n",
        "\n",
        "features = pickle.load(open('/content/drive/MyDrive/vit_features.pkl','rb'))\n"
      ],
      "metadata": {
        "id": "-WKUX3LVppT6"
      },
      "execution_count": 77,
      "outputs": []
    },
    {
      "cell_type": "code",
      "source": [
        "backtranslated = False\n",
        "\n",
        "labels = []\n",
        "combined = []\n",
        "only_text = []\n",
        "only_video = []\n",
        "\n",
        "for index,row in df.iterrows():\n",
        "  if(backtranslated==False and row['id'][-1]=='2'):\n",
        "    continue\n",
        "  a = embeddings[row['id']]\n",
        "  b = np.mean(features[row['id'][:-2]],axis=0)\n",
        "  c = np.concatenate((a,b))\n",
        "  only_text.append(a)\n",
        "  only_video.append(b)\n",
        "  combined.append(c)\n",
        "  labels.append(row['sarcasm'])\n",
        "\n",
        "only_text = np.array(only_text)\n",
        "only_video = np.array(only_video)\n",
        "combined = np.array(combined)\n",
        "labels = np.array(labels)\n",
        "\n",
        "np.shape(combined)"
      ],
      "metadata": {
        "id": "m5Y0iGs7eUNk",
        "colab": {
          "base_uri": "https://localhost:8080/"
        },
        "outputId": "05bf1b16-7392-43e7-9c5d-68944f5126b8"
      },
      "execution_count": 84,
      "outputs": [
        {
          "output_type": "execute_result",
          "data": {
            "text/plain": [
              "(690, 1768)"
            ]
          },
          "metadata": {},
          "execution_count": 84
        }
      ]
    },
    {
      "cell_type": "code",
      "source": [
        "from sklearn.utils import shuffle\n",
        "\n",
        "def create_train_valid(features,labels,train_fraction = 0.7,max_valid=1000):\n",
        "\n",
        "    features,labels = shuffle(features,labels,random_state = 50)\n",
        "\n",
        "    train_end = max(int(train_fraction*len(labels)),len(labels)-max_valid)\n",
        "\n",
        "    train_features = np.asarray(features[:train_end])\n",
        "    valid_features = np.asarray(features[train_end:])\n",
        "\n",
        "    train_labels = np.asarray(labels[:train_end])\n",
        "    valid_labels = np.asarray(labels[train_end:])\n",
        "    \n",
        "    return train_features,valid_features,train_labels,valid_labels"
      ],
      "metadata": {
        "id": "WOfg4DDtdfY8"
      },
      "execution_count": 79,
      "outputs": []
    },
    {
      "cell_type": "code",
      "source": [
        "inputs = only_video\n",
        "\n",
        "x_train,x_valid,y_train,y_valid = create_train_valid(inputs,labels)"
      ],
      "metadata": {
        "id": "GO-C4DBZdS8c"
      },
      "execution_count": 88,
      "outputs": []
    },
    {
      "cell_type": "code",
      "source": [
        "from sklearn import svm\n",
        "from sklearn.metrics import classification_report, confusion_matrix\n",
        "from sklearn.pipeline import make_pipeline\n",
        "from sklearn.preprocessing import FunctionTransformer, StandardScaler\n",
        "\n",
        "def svm_train(features,labels):\n",
        "    clf = make_pipeline(\n",
        "        StandardScaler(),\n",
        "        svm.SVC(C=15.0, gamma=\"scale\", kernel=\"rbf\")\n",
        "    )\n",
        "    return clf.fit(features, labels)\n",
        "\n",
        "def svm_test(clf,features,labels):\n",
        "    pred = clf.predict(features)\n",
        "    true = labels\n",
        "\n",
        "    result_string = classification_report(true, pred, digits=3)\n",
        "    # print(confusion_matrix(true, pred))\n",
        "    # print(result_string)\n",
        "    return classification_report(true, pred, digits=3, output_dict=True)\n",
        "\n"
      ],
      "metadata": {
        "id": "XQeDD6m5dHoi"
      },
      "execution_count": 81,
      "outputs": []
    },
    {
      "cell_type": "code",
      "source": [
        "from sklearn.model_selection import StratifiedKFold\n",
        "\n",
        "skf = StratifiedKFold(n_splits=5,shuffle=True)\n",
        "# skf.get_n_splits(inputs, labels)\n",
        "\n",
        "results = []\n",
        "\n",
        "for train_index, test_index in skf.split(inputs, labels):\n",
        "  xtrain, xvalid = inputs[train_index], inputs[test_index]\n",
        "  ytrain, yvalid = labels[train_index], labels[test_index]\n",
        "\n",
        "  clf = svm_train(xtrain,ytrain)\n",
        "  result_dict = svm_test(clf,xvalid,yvalid);\n",
        "  results.append(result_dict)\n",
        "\n",
        "acc = []\n",
        "\n",
        "for re in results:\n",
        "  acc.append(re[\"weighted avg\"][\"f1-score\"])\n",
        "\n",
        "np.mean(np.array(acc))"
      ],
      "metadata": {
        "colab": {
          "base_uri": "https://localhost:8080/"
        },
        "id": "t9e8rsy4a-qD",
        "outputId": "2704a9f7-ac07-4ce7-c2e4-86abb692d64a"
      },
      "execution_count": 91,
      "outputs": [
        {
          "output_type": "execute_result",
          "data": {
            "text/plain": [
              "0.6901665411684387"
            ]
          },
          "metadata": {},
          "execution_count": 91
        }
      ]
    }
  ]
}