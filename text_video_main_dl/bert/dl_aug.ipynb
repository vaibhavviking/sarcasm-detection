{
 "cells": [
  {
   "cell_type": "code",
   "execution_count": 1,
   "metadata": {},
   "outputs": [],
   "source": [
    "import numpy as np\n",
    "import pandas as pd\n",
    "import pickle"
   ]
  },
  {
   "cell_type": "code",
   "execution_count": 2,
   "metadata": {},
   "outputs": [],
   "source": [
    "with open('../../video_features/resnet_features.pkl', 'rb') as f:\n",
    "    video_features_dict = pickle.load(f)\n",
    "\n",
    "for k in video_features_dict:\n",
    "    video_features_dict[k] = np.array(video_features_dict[k])"
   ]
  },
  {
   "cell_type": "code",
   "execution_count": 3,
   "metadata": {},
   "outputs": [
    {
     "data": {
      "text/plain": [
       "array([  9.,  72., 120., 168., 480.])"
      ]
     },
     "execution_count": 3,
     "metadata": {},
     "output_type": "execute_result"
    }
   ],
   "source": [
    "a = [video_features_dict[k].shape[0] for k in video_features_dict]\n",
    "np.percentile(a, [0,25,50,75,100])"
   ]
  },
  {
   "cell_type": "code",
   "execution_count": 10,
   "metadata": {},
   "outputs": [
    {
     "data": {
      "text/plain": [
       "(100, 2048)"
      ]
     },
     "execution_count": 10,
     "metadata": {},
     "output_type": "execute_result"
    }
   ],
   "source": [
    "import random\n",
    "def getUpdatedFeatures(a, nf):\n",
    "    b = a.copy()\n",
    "    while b.shape[0]<nf:\n",
    "        i = random.randint(0,b.shape[0]-1)\n",
    "        b = np.concatenate((b[:i],np.array([b[i]]),b[i:]))\n",
    "        \n",
    "    while b.shape[0]>nf:\n",
    "        i = random.randint(0,b.shape[0]-1)\n",
    "        b = np.concatenate((b[:i],b[i+1:]))\n",
    "    \n",
    "    return b\n",
    "\n",
    "getUpdatedFeatures(video_features_dict[k], numFrames).shape"
   ]
  },
  {
   "cell_type": "code",
   "execution_count": 11,
   "metadata": {},
   "outputs": [],
   "source": [
    "video_features_dict2 = {}\n",
    "for k in video_features_dict:\n",
    "    video_features_dict2[k] = getUpdatedFeatures(video_features_dict[k], numFrames)"
   ]
  },
  {
   "cell_type": "code",
   "execution_count": 12,
   "metadata": {},
   "outputs": [],
   "source": [
    "output = open('../../video_features/resnet_features_same_num_frames.pkl', 'wb')\n",
    "pickle.dump(video_features_dict2, output)\n",
    "output.close()"
   ]
  },
  {
   "cell_type": "code",
   "execution_count": 30,
   "metadata": {},
   "outputs": [
    {
     "data": {
      "text/plain": [
       "(690, 100, 2048)"
      ]
     },
     "execution_count": 30,
     "metadata": {},
     "output_type": "execute_result"
    }
   ],
   "source": [
    "data = pd.read_csv('../../datasets/mustard_dataset/sarcasm_with_id.csv')\n",
    "video_features = []\n",
    "\n",
    "ids = list(data['id'])\n",
    "\n",
    "for i in ids:\n",
    "    if i[-2:] == \"_1\":\n",
    "        video_features.append(video_features_dict2[i[:-2]])\n",
    "\n",
    "video_features = np.array(video_features)\n",
    "video_features.shape"
   ]
  },
  {
   "cell_type": "code",
   "execution_count": 13,
   "metadata": {},
   "outputs": [
    {
     "data": {
      "text/plain": [
       "(768,)"
      ]
     },
     "execution_count": 13,
     "metadata": {},
     "output_type": "execute_result"
    }
   ],
   "source": [
    "with open('../../bert embeddings/sarcasm_aug_embeddings.pkl', 'rb') as f:\n",
    "    text_features_dict = pickle.load(f)\n",
    "\n",
    "text_features_dict[list(text_features_dict.keys())[0]].shape"
   ]
  },
  {
   "cell_type": "code",
   "execution_count": 14,
   "metadata": {},
   "outputs": [
    {
     "data": {
      "text/plain": [
       "((1322, 100, 2048), (1322, 768))"
      ]
     },
     "execution_count": 14,
     "metadata": {},
     "output_type": "execute_result"
    }
   ],
   "source": [
    "text_features = []\n",
    "video_features = []\n",
    "\n",
    "for i in text_features_dict:\n",
    "    video_features.append(video_features_dict2[i[:-2]])\n",
    "    text_features.append(text_features_dict[i])\n",
    "\n",
    "video_features = np.array(video_features)\n",
    "text_features = np.array(text_features)\n",
    "video_features.shape, text_features.shape"
   ]
  },
  {
   "cell_type": "code",
   "execution_count": 17,
   "metadata": {},
   "outputs": [
    {
     "data": {
      "text/plain": [
       "(1322,)"
      ]
     },
     "execution_count": 17,
     "metadata": {},
     "output_type": "execute_result"
    }
   ],
   "source": [
    "data = pd.read_csv('../../datasets/mustard_dataset/sarcasm_with_id.csv')\n",
    "idToLabel = {}\n",
    "\n",
    "ids = list(data['id'])\n",
    "lab = [int(k) for k in list(data['sarcasm'])]\n",
    "\n",
    "iToL = {}\n",
    "for i in range(len(ids)):\n",
    "    iToL[ids[i]] = lab[i]\n",
    "\n",
    "labels = []\n",
    "for i in text_features_dict:\n",
    "    labels.append(iToL[i])\n",
    "\n",
    "labels = np.array(labels)\n",
    "labels.shape"
   ]
  },
  {
   "cell_type": "code",
   "execution_count": 18,
   "metadata": {},
   "outputs": [
    {
     "data": {
      "text/plain": [
       "TensorShape([32, 2048])"
      ]
     },
     "execution_count": 18,
     "metadata": {},
     "output_type": "execute_result"
    }
   ],
   "source": [
    "import keras.backend as K\n",
    "from tensorflow.keras.layers import Layer, Dense\n",
    "\n",
    "class TextBasedAttention(Layer):\n",
    "    \"\"\"\n",
    "    Inputs:\n",
    "        V: (nf, vd)\n",
    "        T: (td)\n",
    "    Outputs:\n",
    "        Vp: (nf)\n",
    "    \"\"\"\n",
    "    def __init__(self, **kwargs):\n",
    "        super(TextBasedAttention, self).__init__(**kwargs)\n",
    "\n",
    "    def build(self, input_shape):\n",
    "        self.w = self.add_weight(name='w',\n",
    "                                   shape=(input_shape[0][-1], input_shape[1][-1]),\n",
    "                                   initializer='random_normal',\n",
    "                                   trainable=True)\n",
    "        self.dense = Dense(input_shape[0][-2], activation='softmax')\n",
    "        super(TextBasedAttention, self).build(input_shape)\n",
    "\n",
    "    def call(self, x, mask=None):\n",
    "        V = x[0]\n",
    "        T = K.expand_dims(x[1], -1)\n",
    "        \n",
    "        p1 = K.permute_dimensions(K.dot(self.w,T), (1, 0, 2))\n",
    "        prod = K.squeeze(K.batch_dot(V, p1), axis=-1)\n",
    "        \n",
    "        scores = self.dense(prod)\n",
    "        scores = K.permute_dimensions(K.repeat(scores, V.shape[-1]), (0, 2, 1))\n",
    "        \n",
    "        vp = K.sum(V*scores, axis=-2)\n",
    "        \n",
    "        return vp\n",
    "\n",
    "    def compute_output_shape(self, input_shape):\n",
    "        return (input_shape[0][-2])\n",
    "\n",
    "    def get_config(self):\n",
    "        return super(TextBasedAttention, self).get_config()\n",
    "    \n",
    "T = np.ones((32,768))\n",
    "V = np.ones((32,100,2048))\n",
    "TextBasedAttention()([V,T]).shape"
   ]
  },
  {
   "cell_type": "code",
   "execution_count": 19,
   "metadata": {},
   "outputs": [],
   "source": [
    "from tensorflow.keras.layers import Input, Concatenate, Dropout, Dense\n",
    "from tensorflow.keras.models import Model"
   ]
  },
  {
   "cell_type": "code",
   "execution_count": 20,
   "metadata": {},
   "outputs": [
    {
     "name": "stdout",
     "output_type": "stream",
     "text": [
      "Model: \"model\"\n",
      "__________________________________________________________________________________________________\n",
      " Layer (type)                   Output Shape         Param #     Connected to                     \n",
      "==================================================================================================\n",
      " input_1 (InputLayer)           [(None, 100, 2048)]  0           []                               \n",
      "                                                                                                  \n",
      " input_2 (InputLayer)           [(None, 768)]        0           []                               \n",
      "                                                                                                  \n",
      " text_based_attention_1 (TextBa  (None, 2048)        1582964     ['input_1[0][0]',                \n",
      " sedAttention)                                                    'input_2[0][0]']                \n",
      "                                                                                                  \n",
      " concatenate (Concatenate)      (None, 2816)         0           ['text_based_attention_1[0][0]', \n",
      "                                                                  'input_2[0][0]']                \n",
      "                                                                                                  \n",
      " dropout (Dropout)              (None, 2816)         0           ['concatenate[0][0]']            \n",
      "                                                                                                  \n",
      " dense_1 (Dense)                (None, 1)            2817        ['dropout[0][0]']                \n",
      "                                                                                                  \n",
      "==================================================================================================\n",
      "Total params: 1,585,781\n",
      "Trainable params: 1,585,781\n",
      "Non-trainable params: 0\n",
      "__________________________________________________________________________________________________\n",
      "None\n"
     ]
    }
   ],
   "source": [
    "import tensorflow as tf\n",
    "def myModel():\n",
    "    V = Input(shape=(100, 2048))\n",
    "    T = Input(shape=(768,))\n",
    "    \n",
    "    Vp = TextBasedAttention()([V,T])\n",
    "\n",
    "    f = Concatenate()([Vp, T])\n",
    "    dropout = Dropout(0.5)(f)\n",
    "    output = Dense(1, activation=\"sigmoid\", use_bias=True)(dropout)\n",
    "    \n",
    "    model = Model(inputs=[V,T], outputs=output)\n",
    "    model.compile(\n",
    "        optimizer=\"adam\", \n",
    "        loss='binary_crossentropy', \n",
    "        metrics=[\n",
    "            tf.keras.metrics.BinaryAccuracy(),\n",
    "            tf.keras.metrics.Precision(),\n",
    "            tf.keras.metrics.Recall()\n",
    "        ])\n",
    "    return model\n",
    "\n",
    "model = myModel()\n",
    "print(model.summary())\n",
    "\n",
    "del model"
   ]
  },
  {
   "cell_type": "code",
   "execution_count": 21,
   "metadata": {},
   "outputs": [],
   "source": [
    "from sklearn.utils import shuffle\n",
    "RANDOM_STATE = 50\n",
    "\n",
    "def create_train_valid(features,labels,train_fraction = 0.7,max_valid=1000):\n",
    "\n",
    "    features,labels = shuffle(features,labels,random_state = RANDOM_STATE)\n",
    "\n",
    "    train_end = max(int(train_fraction*len(labels)),len(labels)-max_valid)\n",
    "\n",
    "    train_features = np.asarray(features[:train_end])\n",
    "    valid_features = np.asarray(features[train_end:])\n",
    "\n",
    "    train_labels = np.asarray(labels[:train_end])\n",
    "    valid_labels = np.asarray(labels[train_end:])\n",
    "    \n",
    "    return train_features,valid_features,train_labels,valid_labels\n",
    "\n",
    "\n",
    "x_train_video, x_valid_video, y_train_video, y_valid_video = create_train_valid(video_features, labels)\n",
    "x_train_text, x_valid_text, y_train_text, y_valid_text = create_train_valid(text_features, labels)"
   ]
  },
  {
   "cell_type": "code",
   "execution_count": 25,
   "metadata": {},
   "outputs": [],
   "source": [
    "EPOCHS = 100\n",
    "BATCH_SIZE = 64"
   ]
  },
  {
   "cell_type": "code",
   "execution_count": 31,
   "metadata": {
    "scrolled": true
   },
   "outputs": [
    {
     "name": "stdout",
     "output_type": "stream",
     "text": [
      "15/15 - 3s - loss: 0.7313 - binary_accuracy: 0.5405 - precision_8: 0.5577 - recall_8: 0.5542 - 3s/epoch - 200ms/step\n",
      "7/7 [==============================] - 1s 75ms/step - loss: 0.6612 - binary_accuracy: 0.6096 - precision_8: 0.6385 - recall_8: 0.4346\n",
      "15/15 - 2s - loss: 0.6940 - binary_accuracy: 0.5978 - precision_8: 0.5993 - recall_8: 0.6792 - 2s/epoch - 157ms/step\n",
      "7/7 [==============================] - 1s 73ms/step - loss: 0.6259 - binary_accuracy: 0.6322 - precision_8: 0.7103 - recall_8: 0.3979\n",
      "15/15 - 2s - loss: 0.6337 - binary_accuracy: 0.6465 - precision_8: 0.6638 - recall_8: 0.6458 - 2s/epoch - 157ms/step\n",
      "7/7 [==============================] - 1s 73ms/step - loss: 0.6041 - binary_accuracy: 0.6776 - precision_8: 0.6425 - recall_8: 0.7435\n",
      "15/15 - 2s - loss: 0.6121 - binary_accuracy: 0.6703 - precision_8: 0.6834 - recall_8: 0.6792 - 2s/epoch - 159ms/step\n",
      "7/7 [==============================] - 1s 76ms/step - loss: 0.5738 - binary_accuracy: 0.7229 - precision_8: 0.7263 - recall_8: 0.6806\n",
      "15/15 - 2s - loss: 0.5872 - binary_accuracy: 0.6908 - precision_8: 0.6932 - recall_8: 0.7250 - 2s/epoch - 158ms/step\n",
      "7/7 [==============================] - 1s 76ms/step - loss: 0.5583 - binary_accuracy: 0.7380 - precision_8: 0.7143 - recall_8: 0.7592\n",
      "15/15 - 2s - loss: 0.5608 - binary_accuracy: 0.7103 - precision_8: 0.7154 - recall_8: 0.7333 - 2s/epoch - 155ms/step\n",
      "7/7 [==============================] - 1s 76ms/step - loss: 0.5399 - binary_accuracy: 0.7355 - precision_8: 0.7654 - recall_8: 0.6492\n",
      "15/15 - 2s - loss: 0.5382 - binary_accuracy: 0.7373 - precision_8: 0.7328 - recall_8: 0.7771 - 2s/epoch - 154ms/step\n",
      "7/7 [==============================] - 1s 75ms/step - loss: 0.5329 - binary_accuracy: 0.7531 - precision_8: 0.7435 - recall_8: 0.7435\n",
      "15/15 - 2s - loss: 0.5367 - binary_accuracy: 0.7373 - precision_8: 0.7328 - recall_8: 0.7771 - 2s/epoch - 155ms/step\n",
      "7/7 [==============================] - 1s 75ms/step - loss: 0.5266 - binary_accuracy: 0.7456 - precision_8: 0.8000 - recall_8: 0.6283\n",
      "15/15 - 2s - loss: 0.5238 - binary_accuracy: 0.7384 - precision_8: 0.7409 - recall_8: 0.7625 - 2s/epoch - 153ms/step\n",
      "7/7 [==============================] - 1s 73ms/step - loss: 0.5175 - binary_accuracy: 0.7607 - precision_8: 0.7400 - recall_8: 0.7749\n",
      "15/15 - 2s - loss: 0.5077 - binary_accuracy: 0.7632 - precision_8: 0.7894 - recall_8: 0.7417 - 2s/epoch - 156ms/step\n",
      "7/7 [==============================] - 1s 73ms/step - loss: 0.5219 - binary_accuracy: 0.7456 - precision_8: 0.6991 - recall_8: 0.8272\n",
      "15/15 - 2s - loss: 0.4954 - binary_accuracy: 0.7611 - precision_8: 0.7544 - recall_8: 0.8000 - 2s/epoch - 156ms/step\n",
      "7/7 [==============================] - 1s 73ms/step - loss: 0.5066 - binary_accuracy: 0.7632 - precision_8: 0.7343 - recall_8: 0.7958\n",
      "15/15 - 2s - loss: 0.4864 - binary_accuracy: 0.7827 - precision_8: 0.7876 - recall_8: 0.7958 - 2s/epoch - 157ms/step\n",
      "7/7 [==============================] - 1s 73ms/step - loss: 0.5027 - binary_accuracy: 0.7632 - precision_8: 0.7299 - recall_8: 0.8063\n",
      "15/15 - 2s - loss: 0.4596 - binary_accuracy: 0.8032 - precision_8: 0.7992 - recall_8: 0.8292 - 2s/epoch - 155ms/step\n",
      "7/7 [==============================] - 1s 72ms/step - loss: 0.4923 - binary_accuracy: 0.7758 - precision_8: 0.8036 - recall_8: 0.7068\n",
      "15/15 - 2s - loss: 0.4727 - binary_accuracy: 0.7751 - precision_8: 0.7656 - recall_8: 0.8167 - 2s/epoch - 156ms/step\n",
      "7/7 [==============================] - 1s 71ms/step - loss: 0.4903 - binary_accuracy: 0.7506 - precision_8: 0.8067 - recall_8: 0.6335\n",
      "15/15 - 2s - loss: 0.4684 - binary_accuracy: 0.7892 - precision_8: 0.8013 - recall_8: 0.7896 - 2s/epoch - 153ms/step\n",
      "7/7 [==============================] - 1s 74ms/step - loss: 0.4908 - binary_accuracy: 0.7683 - precision_8: 0.7302 - recall_8: 0.8220\n",
      "15/15 - 2s - loss: 0.4418 - binary_accuracy: 0.8086 - precision_8: 0.8036 - recall_8: 0.8354 - 2s/epoch - 152ms/step\n",
      "7/7 [==============================] - 1s 73ms/step - loss: 0.4781 - binary_accuracy: 0.7859 - precision_8: 0.7944 - recall_8: 0.7487\n",
      "15/15 - 2s - loss: 0.4426 - binary_accuracy: 0.8032 - precision_8: 0.8170 - recall_8: 0.8000 - 2s/epoch - 157ms/step\n",
      "7/7 [==============================] - 1s 71ms/step - loss: 0.4763 - binary_accuracy: 0.7884 - precision_8: 0.7716 - recall_8: 0.7958\n",
      "15/15 - 2s - loss: 0.4385 - binary_accuracy: 0.8184 - precision_8: 0.8184 - recall_8: 0.8354 - 2s/epoch - 156ms/step\n",
      "7/7 [==============================] - 1s 71ms/step - loss: 0.4744 - binary_accuracy: 0.7758 - precision_8: 0.7406 - recall_8: 0.8220\n",
      "15/15 - 2s - loss: 0.4301 - binary_accuracy: 0.8108 - precision_8: 0.8197 - recall_8: 0.8146 - 2s/epoch - 156ms/step\n",
      "7/7 [==============================] - 1s 73ms/step - loss: 0.4677 - binary_accuracy: 0.7859 - precision_8: 0.7548 - recall_8: 0.8220\n",
      "15/15 - 2s - loss: 0.4169 - binary_accuracy: 0.8281 - precision_8: 0.8216 - recall_8: 0.8542 - 2s/epoch - 156ms/step\n",
      "7/7 [==============================] - 1s 73ms/step - loss: 0.4607 - binary_accuracy: 0.7909 - precision_8: 0.7935 - recall_8: 0.7644\n",
      "15/15 - 2s - loss: 0.4238 - binary_accuracy: 0.8195 - precision_8: 0.7992 - recall_8: 0.8708 - 2s/epoch - 157ms/step\n",
      "7/7 [==============================] - 1s 73ms/step - loss: 0.4683 - binary_accuracy: 0.7657 - precision_8: 0.8403 - recall_8: 0.6335\n",
      "15/15 - 2s - loss: 0.3965 - binary_accuracy: 0.8292 - precision_8: 0.8299 - recall_8: 0.8438 - 2s/epoch - 158ms/step\n",
      "7/7 [==============================] - 1s 72ms/step - loss: 0.4593 - binary_accuracy: 0.7960 - precision_8: 0.7619 - recall_8: 0.8377\n",
      "15/15 - 2s - loss: 0.4111 - binary_accuracy: 0.8184 - precision_8: 0.8184 - recall_8: 0.8354 - 2s/epoch - 155ms/step\n",
      "7/7 [==============================] - 1s 73ms/step - loss: 0.4551 - binary_accuracy: 0.7985 - precision_8: 0.7630 - recall_8: 0.8429\n",
      "15/15 - 2s - loss: 0.3988 - binary_accuracy: 0.8378 - precision_8: 0.8354 - recall_8: 0.8562 - 2s/epoch - 154ms/step\n",
      "7/7 [==============================] - 1s 73ms/step - loss: 0.4591 - binary_accuracy: 0.8060 - precision_8: 0.7591 - recall_8: 0.8743\n",
      "15/15 - 2s - loss: 0.3954 - binary_accuracy: 0.8346 - precision_8: 0.8413 - recall_8: 0.8396 - 2s/epoch - 156ms/step\n",
      "7/7 [==============================] - 1s 72ms/step - loss: 0.4486 - binary_accuracy: 0.8086 - precision_8: 0.7833 - recall_8: 0.8325\n",
      "15/15 - 2s - loss: 0.3836 - binary_accuracy: 0.8400 - precision_8: 0.8307 - recall_8: 0.8687 - 2s/epoch - 156ms/step\n",
      "7/7 [==============================] - 1s 71ms/step - loss: 0.4439 - binary_accuracy: 0.8010 - precision_8: 0.8146 - recall_8: 0.7592\n",
      "15/15 - 2s - loss: 0.3842 - binary_accuracy: 0.8314 - precision_8: 0.8320 - recall_8: 0.8458 - 2s/epoch - 154ms/step\n",
      "7/7 [==============================] - 1s 71ms/step - loss: 0.4442 - binary_accuracy: 0.8111 - precision_8: 0.7816 - recall_8: 0.8429\n",
      "15/15 - 2s - loss: 0.3813 - binary_accuracy: 0.8530 - precision_8: 0.8413 - recall_8: 0.8833 - 2s/epoch - 155ms/step\n",
      "7/7 [==============================] - 1s 73ms/step - loss: 0.4387 - binary_accuracy: 0.7935 - precision_8: 0.8187 - recall_8: 0.7330\n",
      "15/15 - 2s - loss: 0.3804 - binary_accuracy: 0.8389 - precision_8: 0.8330 - recall_8: 0.8625 - 2s/epoch - 155ms/step\n",
      "7/7 [==============================] - 1s 71ms/step - loss: 0.4447 - binary_accuracy: 0.8136 - precision_8: 0.7671 - recall_8: 0.8796\n",
      "15/15 - 2s - loss: 0.3805 - binary_accuracy: 0.8422 - precision_8: 0.8436 - recall_8: 0.8542 - 2s/epoch - 158ms/step\n",
      "7/7 [==============================] - 1s 75ms/step - loss: 0.4393 - binary_accuracy: 0.8111 - precision_8: 0.7736 - recall_8: 0.8586\n",
      "15/15 - 2s - loss: 0.3604 - binary_accuracy: 0.8551 - precision_8: 0.8419 - recall_8: 0.8875 - 2s/epoch - 164ms/step\n",
      "7/7 [==============================] - 1s 73ms/step - loss: 0.4380 - binary_accuracy: 0.7859 - precision_8: 0.8272 - recall_8: 0.7016\n",
      "15/15 - 2s - loss: 0.3626 - binary_accuracy: 0.8638 - precision_8: 0.8569 - recall_8: 0.8854 - 2s/epoch - 157ms/step\n",
      "7/7 [==============================] - 1s 72ms/step - loss: 0.4338 - binary_accuracy: 0.8237 - precision_8: 0.7980 - recall_8: 0.8482\n",
      "15/15 - 2s - loss: 0.3691 - binary_accuracy: 0.8605 - precision_8: 0.8664 - recall_8: 0.8646 - 2s/epoch - 156ms/step\n"
     ]
    },
    {
     "name": "stdout",
     "output_type": "stream",
     "text": [
      "7/7 [==============================] - 1s 73ms/step - loss: 0.4269 - binary_accuracy: 0.8136 - precision_8: 0.8031 - recall_8: 0.8115\n",
      "15/15 - 2s - loss: 0.3516 - binary_accuracy: 0.8627 - precision_8: 0.8639 - recall_8: 0.8729 - 2s/epoch - 153ms/step\n",
      "7/7 [==============================] - 1s 71ms/step - loss: 0.4368 - binary_accuracy: 0.8136 - precision_8: 0.7623 - recall_8: 0.8901\n",
      "15/15 - 2s - loss: 0.3520 - binary_accuracy: 0.8562 - precision_8: 0.8563 - recall_8: 0.8687 - 2s/epoch - 153ms/step\n",
      "7/7 [==============================] - 1s 73ms/step - loss: 0.4423 - binary_accuracy: 0.8111 - precision_8: 0.7479 - recall_8: 0.9162\n",
      "15/15 - 2s - loss: 0.3577 - binary_accuracy: 0.8595 - precision_8: 0.8586 - recall_8: 0.8729 - 2s/epoch - 154ms/step\n",
      "7/7 [==============================] - 1s 71ms/step - loss: 0.4197 - binary_accuracy: 0.8338 - precision_8: 0.8141 - recall_8: 0.8482\n",
      "15/15 - 2s - loss: 0.3551 - binary_accuracy: 0.8616 - precision_8: 0.8478 - recall_8: 0.8938 - 2s/epoch - 154ms/step\n",
      "7/7 [==============================] - 1s 72ms/step - loss: 0.4159 - binary_accuracy: 0.8237 - precision_8: 0.8235 - recall_8: 0.8063\n",
      "15/15 - 2s - loss: 0.3421 - binary_accuracy: 0.8659 - precision_8: 0.8589 - recall_8: 0.8875 - 2s/epoch - 153ms/step\n",
      "7/7 [==============================] - 1s 71ms/step - loss: 0.4148 - binary_accuracy: 0.8363 - precision_8: 0.8119 - recall_8: 0.8586\n",
      "15/15 - 2s - loss: 0.3408 - binary_accuracy: 0.8605 - precision_8: 0.8774 - recall_8: 0.8500 - 2s/epoch - 154ms/step\n",
      "7/7 [==============================] - 1s 72ms/step - loss: 0.4160 - binary_accuracy: 0.8363 - precision_8: 0.7972 - recall_8: 0.8848\n",
      "15/15 - 2s - loss: 0.3323 - binary_accuracy: 0.8692 - precision_8: 0.8763 - recall_8: 0.8708 - 2s/epoch - 153ms/step\n",
      "7/7 [==============================] - 1s 71ms/step - loss: 0.4146 - binary_accuracy: 0.8338 - precision_8: 0.7990 - recall_8: 0.8743\n",
      "15/15 - 2s - loss: 0.3455 - binary_accuracy: 0.8584 - precision_8: 0.8483 - recall_8: 0.8854 - 2s/epoch - 157ms/step\n",
      "7/7 [==============================] - 1s 75ms/step - loss: 0.4080 - binary_accuracy: 0.8237 - precision_8: 0.8168 - recall_8: 0.8168\n",
      "15/15 - 2s - loss: 0.3414 - binary_accuracy: 0.8638 - precision_8: 0.8750 - recall_8: 0.8604 - 2s/epoch - 154ms/step\n",
      "7/7 [==============================] - 1s 72ms/step - loss: 0.4111 - binary_accuracy: 0.8363 - precision_8: 0.8058 - recall_8: 0.8691\n",
      "15/15 - 2s - loss: 0.3327 - binary_accuracy: 0.8681 - precision_8: 0.8638 - recall_8: 0.8854 - 2s/epoch - 154ms/step\n",
      "7/7 [==============================] - 1s 69ms/step - loss: 0.4056 - binary_accuracy: 0.8161 - precision_8: 0.8138 - recall_8: 0.8010\n",
      "15/15 - 2s - loss: 0.3174 - binary_accuracy: 0.8843 - precision_8: 0.8926 - recall_8: 0.8833 - 2s/epoch - 154ms/step\n",
      "7/7 [==============================] - 1s 71ms/step - loss: 0.4138 - binary_accuracy: 0.8237 - precision_8: 0.7763 - recall_8: 0.8901\n",
      "15/15 - 2s - loss: 0.3439 - binary_accuracy: 0.8627 - precision_8: 0.8763 - recall_8: 0.8562 - 2s/epoch - 155ms/step\n",
      "7/7 [==============================] - 1s 72ms/step - loss: 0.4240 - binary_accuracy: 0.8136 - precision_8: 0.7511 - recall_8: 0.9162\n",
      "15/15 - 2s - loss: 0.3405 - binary_accuracy: 0.8541 - precision_8: 0.8443 - recall_8: 0.8813 - 2s/epoch - 156ms/step\n",
      "7/7 [==============================] - 1s 70ms/step - loss: 0.3996 - binary_accuracy: 0.8212 - precision_8: 0.8191 - recall_8: 0.8063\n",
      "15/15 - 2s - loss: 0.3258 - binary_accuracy: 0.8670 - precision_8: 0.8521 - recall_8: 0.9000 - 2s/epoch - 153ms/step\n",
      "7/7 [==============================] - 1s 71ms/step - loss: 0.3986 - binary_accuracy: 0.8237 - precision_8: 0.8168 - recall_8: 0.8168\n",
      "15/15 - 2s - loss: 0.3228 - binary_accuracy: 0.8724 - precision_8: 0.8771 - recall_8: 0.8771 - 2s/epoch - 153ms/step\n",
      "7/7 [==============================] - 1s 70ms/step - loss: 0.4134 - binary_accuracy: 0.8136 - precision_8: 0.7532 - recall_8: 0.9110\n",
      "15/15 - 2s - loss: 0.3277 - binary_accuracy: 0.8703 - precision_8: 0.8734 - recall_8: 0.8771 - 2s/epoch - 154ms/step\n",
      "7/7 [==============================] - 1s 72ms/step - loss: 0.3959 - binary_accuracy: 0.8312 - precision_8: 0.8163 - recall_8: 0.8377\n",
      "15/15 - 2s - loss: 0.3239 - binary_accuracy: 0.8681 - precision_8: 0.8653 - recall_8: 0.8833 - 2s/epoch - 153ms/step\n",
      "7/7 [==============================] - 1s 72ms/step - loss: 0.3988 - binary_accuracy: 0.8438 - precision_8: 0.8057 - recall_8: 0.8901\n",
      "15/15 - 2s - loss: 0.3278 - binary_accuracy: 0.8605 - precision_8: 0.8679 - recall_8: 0.8625 - 2s/epoch - 154ms/step\n",
      "7/7 [==============================] - 1s 71ms/step - loss: 0.3930 - binary_accuracy: 0.8463 - precision_8: 0.8218 - recall_8: 0.8691\n",
      "15/15 - 2s - loss: 0.3156 - binary_accuracy: 0.8757 - precision_8: 0.8702 - recall_8: 0.8938 - 2s/epoch - 154ms/step\n",
      "7/7 [==============================] - 1s 73ms/step - loss: 0.3891 - binary_accuracy: 0.8489 - precision_8: 0.8195 - recall_8: 0.8796\n",
      "15/15 - 2s - loss: 0.3046 - binary_accuracy: 0.8724 - precision_8: 0.8740 - recall_8: 0.8813 - 2s/epoch - 154ms/step\n",
      "7/7 [==============================] - 1s 73ms/step - loss: 0.3916 - binary_accuracy: 0.8489 - precision_8: 0.8104 - recall_8: 0.8953\n",
      "15/15 - 2s - loss: 0.3162 - binary_accuracy: 0.8865 - precision_8: 0.8850 - recall_8: 0.8979 - 2s/epoch - 154ms/step\n",
      "7/7 [==============================] - 1s 71ms/step - loss: 0.3926 - binary_accuracy: 0.8287 - precision_8: 0.8596 - recall_8: 0.7696\n",
      "15/15 - 2s - loss: 0.3180 - binary_accuracy: 0.8789 - precision_8: 0.8740 - recall_8: 0.8958 - 2s/epoch - 155ms/step\n",
      "7/7 [==============================] - 1s 71ms/step - loss: 0.3886 - binary_accuracy: 0.8514 - precision_8: 0.8143 - recall_8: 0.8953\n",
      "15/15 - 2s - loss: 0.3045 - binary_accuracy: 0.8843 - precision_8: 0.8877 - recall_8: 0.8896 - 2s/epoch - 155ms/step\n",
      "7/7 [==============================] - 1s 71ms/step - loss: 0.3850 - binary_accuracy: 0.8514 - precision_8: 0.8235 - recall_8: 0.8796\n",
      "15/15 - 2s - loss: 0.3077 - binary_accuracy: 0.8843 - precision_8: 0.8814 - recall_8: 0.8979 - 2s/epoch - 153ms/step\n",
      "7/7 [==============================] - 1s 73ms/step - loss: 0.3840 - binary_accuracy: 0.8539 - precision_8: 0.8276 - recall_8: 0.8796\n",
      "15/15 - 2s - loss: 0.3193 - binary_accuracy: 0.8681 - precision_8: 0.8745 - recall_8: 0.8708 - 2s/epoch - 154ms/step\n",
      "7/7 [==============================] - 1s 72ms/step - loss: 0.3853 - binary_accuracy: 0.8363 - precision_8: 0.8316 - recall_8: 0.8272\n",
      "15/15 - 2s - loss: 0.3164 - binary_accuracy: 0.8778 - precision_8: 0.8722 - recall_8: 0.8958 - 2s/epoch - 154ms/step\n",
      "7/7 [==============================] - 1s 72ms/step - loss: 0.3832 - binary_accuracy: 0.8262 - precision_8: 0.8177 - recall_8: 0.8220\n",
      "15/15 - 2s - loss: 0.3070 - binary_accuracy: 0.8778 - precision_8: 0.8815 - recall_8: 0.8833 - 2s/epoch - 155ms/step\n",
      "7/7 [==============================] - 1s 71ms/step - loss: 0.3814 - binary_accuracy: 0.8388 - precision_8: 0.8128 - recall_8: 0.8639\n",
      "15/15 - 2s - loss: 0.2876 - binary_accuracy: 0.8941 - precision_8: 0.9081 - recall_8: 0.8854 - 2s/epoch - 154ms/step\n",
      "7/7 [==============================] - 1s 75ms/step - loss: 0.3973 - binary_accuracy: 0.8312 - precision_8: 0.7768 - recall_8: 0.9110\n",
      "15/15 - 2s - loss: 0.2957 - binary_accuracy: 0.8876 - precision_8: 0.8775 - recall_8: 0.9104 - 2s/epoch - 158ms/step\n",
      "7/7 [==============================] - 1s 71ms/step - loss: 0.3791 - binary_accuracy: 0.8338 - precision_8: 0.8378 - recall_8: 0.8115\n",
      "15/15 - 2s - loss: 0.2987 - binary_accuracy: 0.8908 - precision_8: 0.8875 - recall_8: 0.9042 - 2s/epoch - 155ms/step\n",
      "7/7 [==============================] - 1s 72ms/step - loss: 0.3855 - binary_accuracy: 0.8388 - precision_8: 0.7926 - recall_8: 0.9005\n",
      "15/15 - 2s - loss: 0.2787 - binary_accuracy: 0.9027 - precision_8: 0.8980 - recall_8: 0.9167 - 2s/epoch - 155ms/step\n",
      "7/7 [==============================] - 1s 71ms/step - loss: 0.3779 - binary_accuracy: 0.8489 - precision_8: 0.8359 - recall_8: 0.8534\n",
      "15/15 - 2s - loss: 0.2850 - binary_accuracy: 0.8951 - precision_8: 0.8900 - recall_8: 0.9104 - 2s/epoch - 154ms/step\n",
      "7/7 [==============================] - 1s 74ms/step - loss: 0.3793 - binary_accuracy: 0.8438 - precision_8: 0.8177 - recall_8: 0.8691\n",
      "15/15 - 2s - loss: 0.3076 - binary_accuracy: 0.8659 - precision_8: 0.8648 - recall_8: 0.8792 - 2s/epoch - 152ms/step\n"
     ]
    },
    {
     "name": "stdout",
     "output_type": "stream",
     "text": [
      "7/7 [==============================] - 1s 71ms/step - loss: 0.3783 - binary_accuracy: 0.8463 - precision_8: 0.8218 - recall_8: 0.8691\n",
      "15/15 - 2s - loss: 0.2965 - binary_accuracy: 0.8941 - precision_8: 0.8851 - recall_8: 0.9146 - 2s/epoch - 156ms/step\n",
      "7/7 [==============================] - 1s 71ms/step - loss: 0.3746 - binary_accuracy: 0.8388 - precision_8: 0.8432 - recall_8: 0.8168\n",
      "15/15 - 2s - loss: 0.3065 - binary_accuracy: 0.8703 - precision_8: 0.8673 - recall_8: 0.8854 - 2s/epoch - 155ms/step\n",
      "7/7 [==============================] - 1s 71ms/step - loss: 0.3775 - binary_accuracy: 0.8438 - precision_8: 0.8209 - recall_8: 0.8639\n",
      "15/15 - 2s - loss: 0.2799 - binary_accuracy: 0.8973 - precision_8: 0.8969 - recall_8: 0.9062 - 2s/epoch - 155ms/step\n",
      "7/7 [==============================] - 1s 68ms/step - loss: 0.3769 - binary_accuracy: 0.8388 - precision_8: 0.8098 - recall_8: 0.8691\n",
      "15/15 - 2s - loss: 0.2908 - binary_accuracy: 0.8908 - precision_8: 0.8859 - recall_8: 0.9062 - 2s/epoch - 157ms/step\n",
      "7/7 [==============================] - 1s 70ms/step - loss: 0.3711 - binary_accuracy: 0.8438 - precision_8: 0.8308 - recall_8: 0.8482\n",
      "15/15 - 2s - loss: 0.2823 - binary_accuracy: 0.8962 - precision_8: 0.8887 - recall_8: 0.9146 - 2s/epoch - 157ms/step\n",
      "7/7 [==============================] - 1s 71ms/step - loss: 0.3697 - binary_accuracy: 0.8463 - precision_8: 0.8611 - recall_8: 0.8115\n",
      "15/15 - 2s - loss: 0.2897 - binary_accuracy: 0.8865 - precision_8: 0.8981 - recall_8: 0.8813 - 2s/epoch - 155ms/step\n",
      "7/7 [==============================] - 1s 73ms/step - loss: 0.3751 - binary_accuracy: 0.8413 - precision_8: 0.8077 - recall_8: 0.8796\n",
      "15/15 - 2s - loss: 0.2909 - binary_accuracy: 0.8865 - precision_8: 0.8882 - recall_8: 0.8938 - 2s/epoch - 155ms/step\n",
      "7/7 [==============================] - 1s 73ms/step - loss: 0.3712 - binary_accuracy: 0.8489 - precision_8: 0.8195 - recall_8: 0.8796\n",
      "15/15 - 2s - loss: 0.3036 - binary_accuracy: 0.8832 - precision_8: 0.8827 - recall_8: 0.8938 - 2s/epoch - 158ms/step\n",
      "7/7 [==============================] - 1s 71ms/step - loss: 0.3681 - binary_accuracy: 0.8463 - precision_8: 0.8385 - recall_8: 0.8429\n",
      "15/15 - 2s - loss: 0.2994 - binary_accuracy: 0.8897 - precision_8: 0.8795 - recall_8: 0.9125 - 2s/epoch - 161ms/step\n",
      "7/7 [==============================] - 1s 76ms/step - loss: 0.3760 - binary_accuracy: 0.8363 - precision_8: 0.8706 - recall_8: 0.7749\n",
      "15/15 - 2s - loss: 0.3020 - binary_accuracy: 0.8800 - precision_8: 0.8951 - recall_8: 0.8708 - 2s/epoch - 159ms/step\n",
      "7/7 [==============================] - 1s 71ms/step - loss: 0.3711 - binary_accuracy: 0.8388 - precision_8: 0.8038 - recall_8: 0.8796\n",
      "15/15 - 2s - loss: 0.2809 - binary_accuracy: 0.8962 - precision_8: 0.9017 - recall_8: 0.8979 - 2s/epoch - 161ms/step\n",
      "7/7 [==============================] - 1s 73ms/step - loss: 0.3614 - binary_accuracy: 0.8463 - precision_8: 0.8316 - recall_8: 0.8534\n",
      "15/15 - 2s - loss: 0.2638 - binary_accuracy: 0.9070 - precision_8: 0.8940 - recall_8: 0.9312 - 2s/epoch - 158ms/step\n",
      "7/7 [==============================] - 1s 71ms/step - loss: 0.3619 - binary_accuracy: 0.8363 - precision_8: 0.8150 - recall_8: 0.8534\n",
      "15/15 - 2s - loss: 0.2894 - binary_accuracy: 0.8908 - precision_8: 0.8907 - recall_8: 0.9000 - 2s/epoch - 158ms/step\n",
      "7/7 [==============================] - 1s 71ms/step - loss: 0.3636 - binary_accuracy: 0.8438 - precision_8: 0.8177 - recall_8: 0.8691\n",
      "15/15 - 2s - loss: 0.2857 - binary_accuracy: 0.8886 - precision_8: 0.8935 - recall_8: 0.8917 - 2s/epoch - 154ms/step\n",
      "7/7 [==============================] - 1s 71ms/step - loss: 0.3722 - binary_accuracy: 0.8489 - precision_8: 0.8075 - recall_8: 0.9005\n",
      "15/15 - 2s - loss: 0.2838 - binary_accuracy: 0.8811 - precision_8: 0.8807 - recall_8: 0.8917 - 2s/epoch - 155ms/step\n",
      "7/7 [==============================] - 1s 71ms/step - loss: 0.3630 - binary_accuracy: 0.8463 - precision_8: 0.8385 - recall_8: 0.8429\n",
      "15/15 - 2s - loss: 0.2848 - binary_accuracy: 0.8919 - precision_8: 0.8862 - recall_8: 0.9083 - 2s/epoch - 156ms/step\n",
      "7/7 [==============================] - 1s 73ms/step - loss: 0.3626 - binary_accuracy: 0.8413 - precision_8: 0.8200 - recall_8: 0.8586\n",
      "15/15 - 2s - loss: 0.2755 - binary_accuracy: 0.8995 - precision_8: 0.9057 - recall_8: 0.9000 - 2s/epoch - 155ms/step\n",
      "7/7 [==============================] - 1s 71ms/step - loss: 0.3577 - binary_accuracy: 0.8463 - precision_8: 0.8283 - recall_8: 0.8586\n",
      "15/15 - 2s - loss: 0.2740 - binary_accuracy: 0.8962 - precision_8: 0.8918 - recall_8: 0.9104 - 2s/epoch - 158ms/step\n",
      "7/7 [==============================] - 1s 73ms/step - loss: 0.3606 - binary_accuracy: 0.8463 - precision_8: 0.8155 - recall_8: 0.8796\n",
      "15/15 - 2s - loss: 0.2879 - binary_accuracy: 0.8897 - precision_8: 0.8889 - recall_8: 0.9000 - 2s/epoch - 155ms/step\n",
      "7/7 [==============================] - 1s 74ms/step - loss: 0.3526 - binary_accuracy: 0.8489 - precision_8: 0.8466 - recall_8: 0.8377\n",
      "15/15 - 2s - loss: 0.2574 - binary_accuracy: 0.9092 - precision_8: 0.9091 - recall_8: 0.9167 - 2s/epoch - 154ms/step\n",
      "7/7 [==============================] - 1s 71ms/step - loss: 0.3513 - binary_accuracy: 0.8514 - precision_8: 0.8367 - recall_8: 0.8586\n",
      "15/15 - 2s - loss: 0.2796 - binary_accuracy: 0.8973 - precision_8: 0.9122 - recall_8: 0.8875 - 2s/epoch - 153ms/step\n",
      "7/7 [==============================] - 1s 73ms/step - loss: 0.3549 - binary_accuracy: 0.8463 - precision_8: 0.8186 - recall_8: 0.8743\n",
      "15/15 - 2s - loss: 0.2756 - binary_accuracy: 0.8930 - precision_8: 0.8977 - recall_8: 0.8958 - 2s/epoch - 155ms/step\n",
      "7/7 [==============================] - 1s 71ms/step - loss: 0.3523 - binary_accuracy: 0.8514 - precision_8: 0.8474 - recall_8: 0.8429\n",
      "15/15 - 2s - loss: 0.2622 - binary_accuracy: 0.9027 - precision_8: 0.9029 - recall_8: 0.9104 - 2s/epoch - 156ms/step\n",
      "7/7 [==============================] - 1s 72ms/step - loss: 0.3510 - binary_accuracy: 0.8514 - precision_8: 0.8474 - recall_8: 0.8429\n",
      "15/15 - 2s - loss: 0.2732 - binary_accuracy: 0.8941 - precision_8: 0.8946 - recall_8: 0.9021 - 2s/epoch - 156ms/step\n",
      "7/7 [==============================] - 1s 72ms/step - loss: 0.3521 - binary_accuracy: 0.8489 - precision_8: 0.8227 - recall_8: 0.8743\n",
      "15/15 - 2s - loss: 0.2733 - binary_accuracy: 0.9005 - precision_8: 0.9042 - recall_8: 0.9042 - 2s/epoch - 155ms/step\n",
      "7/7 [==============================] - 1s 72ms/step - loss: 0.3600 - binary_accuracy: 0.8463 - precision_8: 0.8037 - recall_8: 0.9005\n",
      "15/15 - 2s - loss: 0.2580 - binary_accuracy: 0.8973 - precision_8: 0.8752 - recall_8: 0.9354 - 2s/epoch - 155ms/step\n",
      "7/7 [==============================] - 1s 71ms/step - loss: 0.3529 - binary_accuracy: 0.8489 - precision_8: 0.8701 - recall_8: 0.8063\n",
      "15/15 - 2s - loss: 0.2718 - binary_accuracy: 0.8876 - precision_8: 0.8852 - recall_8: 0.9000 - 2s/epoch - 156ms/step\n",
      "7/7 [==============================] - 1s 73ms/step - loss: 0.3491 - binary_accuracy: 0.8514 - precision_8: 0.8367 - recall_8: 0.8586\n",
      "15/15 - 2s - loss: 0.2512 - binary_accuracy: 0.9168 - precision_8: 0.9242 - recall_8: 0.9146 - 2s/epoch - 153ms/step\n",
      "7/7 [==============================] - 1s 70ms/step - loss: 0.3505 - binary_accuracy: 0.8438 - precision_8: 0.8116 - recall_8: 0.8796\n",
      "15/15 - 2s - loss: 0.2652 - binary_accuracy: 0.9038 - precision_8: 0.8998 - recall_8: 0.9167 - 2s/epoch - 155ms/step\n",
      "7/7 [==============================] - 1s 73ms/step - loss: 0.3479 - binary_accuracy: 0.8489 - precision_8: 0.8227 - recall_8: 0.8743\n",
      "15/15 - 2s - loss: 0.2785 - binary_accuracy: 0.8908 - precision_8: 0.8828 - recall_8: 0.9104 - 2s/epoch - 155ms/step\n",
      "7/7 [==============================] - 1s 71ms/step - loss: 0.3454 - binary_accuracy: 0.8489 - precision_8: 0.8259 - recall_8: 0.8691\n",
      "15/15 - 2s - loss: 0.2670 - binary_accuracy: 0.8995 - precision_8: 0.8990 - recall_8: 0.9083 - 2s/epoch - 155ms/step\n",
      "7/7 [==============================] - 1s 72ms/step - loss: 0.3460 - binary_accuracy: 0.8514 - precision_8: 0.8300 - recall_8: 0.8691\n",
      "15/15 - 2s - loss: 0.2644 - binary_accuracy: 0.9005 - precision_8: 0.9025 - recall_8: 0.9062 - 2s/epoch - 153ms/step\n",
      "7/7 [==============================] - 1s 71ms/step - loss: 0.3480 - binary_accuracy: 0.8489 - precision_8: 0.8325 - recall_8: 0.8586\n",
      "15/15 - 2s - loss: 0.2721 - binary_accuracy: 0.8908 - precision_8: 0.8891 - recall_8: 0.9021 - 2s/epoch - 156ms/step\n"
     ]
    },
    {
     "name": "stdout",
     "output_type": "stream",
     "text": [
      "7/7 [==============================] - 1s 71ms/step - loss: 0.3462 - binary_accuracy: 0.8489 - precision_8: 0.8359 - recall_8: 0.8534\n",
      "15/15 - 2s - loss: 0.2827 - binary_accuracy: 0.8854 - precision_8: 0.8912 - recall_8: 0.8875 - 2s/epoch - 156ms/step\n",
      "7/7 [==============================] - 1s 73ms/step - loss: 0.3511 - binary_accuracy: 0.8514 - precision_8: 0.8204 - recall_8: 0.8848\n"
     ]
    }
   ],
   "source": [
    "model = myModel()\n",
    "s1 = 0\n",
    "s2 = 0\n",
    "s3 = 0\n",
    "\n",
    "for i in range(1, EPOCHS+1):\n",
    "    history = model.fit(x=[x_train_video, x_train_text], \n",
    "              y=y_train_video, \n",
    "              batch_size=BATCH_SIZE, \n",
    "              epochs=1, \n",
    "              verbose=2)\n",
    "    \n",
    "    S = model.evaluate(\n",
    "        x=[x_valid_video, x_valid_text], \n",
    "        y=y_valid_video,\n",
    "        batch_size=BATCH_SIZE\n",
    "    )[1:]\n",
    "    \n",
    "#     S = history.history[\"val_binary_accuracy\"][0]\n",
    "    if S[0] > s1 or (S[0] == s1 and S[1] > s2) or (S[0] == s1 and S[1] == s2 and S[2] > s3):\n",
    "        s1, s2, s3 = S\n",
    "        model.save_weights(\"model_aug_weights.h5\")"
   ]
  },
  {
   "cell_type": "code",
   "execution_count": 32,
   "metadata": {},
   "outputs": [
    {
     "name": "stdout",
     "output_type": "stream",
     "text": [
      "7/7 [==============================] - 1s 72ms/step - loss: 0.3840 - binary_accuracy: 0.8539 - precision_9: 0.8276 - recall_9: 0.8796\n"
     ]
    },
    {
     "data": {
      "text/plain": [
       "[0.38396698236465454,\n",
       " 0.8539043068885803,\n",
       " 0.8275862336158752,\n",
       " 0.8795811533927917]"
      ]
     },
     "execution_count": 32,
     "metadata": {},
     "output_type": "execute_result"
    }
   ],
   "source": [
    "newModel = myModel()\n",
    "newModel.load_weights(\"model_aug_weights.h5\")\n",
    "\n",
    "newModel.evaluate(\n",
    "    x=[x_valid_video, x_valid_text], \n",
    "    y=y_valid_video,\n",
    "    batch_size=BATCH_SIZE\n",
    ")"
   ]
  }
 ],
 "metadata": {
  "colab": {
   "name": "svm.ipynb",
   "provenance": []
  },
  "kernelspec": {
   "display_name": "Python 3 (ipykernel)",
   "language": "python",
   "name": "python3"
  },
  "language_info": {
   "codemirror_mode": {
    "name": "ipython",
    "version": 3
   },
   "file_extension": ".py",
   "mimetype": "text/x-python",
   "name": "python",
   "nbconvert_exporter": "python",
   "pygments_lexer": "ipython3",
   "version": "3.10.4"
  },
  "vscode": {
   "interpreter": {
    "hash": "54382ae67bf97b4da5fbc6bddc0d7ed644b3797b6f0fd66a4d7a68da377cfe58"
   }
  }
 },
 "nbformat": 4,
 "nbformat_minor": 1
}
