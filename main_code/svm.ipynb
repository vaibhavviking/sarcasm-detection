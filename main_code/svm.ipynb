{
  "cells": [
    {
      "cell_type": "code",
      "execution_count": 1,
      "metadata": {
        "colab": {
          "base_uri": "https://localhost:8080/"
        },
        "id": "aa9E7VcQT9yi",
        "outputId": "03446c61-bac6-4526-ac6f-ece64d130308"
      },
      "outputs": [],
      "source": [
        "import pandas as pd\n",
        "from sklearn import svm\n",
        "from sklearn.metrics import classification_report, confusion_matrix\n",
        "from sklearn.pipeline import make_pipeline\n",
        "from sklearn.preprocessing import StandardScaler\n",
        "\n",
        "RANDOM_STATE = 50"
      ]
    },
    {
      "cell_type": "code",
      "execution_count": 23,
      "metadata": {},
      "outputs": [],
      "source": [
        "TEXT_EMBEDDINGS = 'GLOVE' # {'BERT', 'GLOVE'}"
      ]
    },
    {
      "cell_type": "code",
      "execution_count": 24,
      "metadata": {},
      "outputs": [],
      "source": [
        "if TEXT_EMBEDDINGS == 'BERT':\n",
        "    textEmbeddingFile = '../bert embeddings/sarcasm_data_embeddings.npy'\n",
        "elif TEXT_EMBEDDINGS == 'GLOVE':\n",
        "    textEmbeddingFile = '../glove embeddings/glove_mustard.npy'\n",
        "else:\n",
        "    raise Exception(\"Invalid TEXT_EMBEDDINGS\")\n",
        "    "
      ]
    },
    {
      "cell_type": "code",
      "execution_count": 25,
      "metadata": {},
      "outputs": [
        {
          "data": {
            "text/plain": [
              "(2048,)"
            ]
          },
          "execution_count": 25,
          "metadata": {},
          "output_type": "execute_result"
        }
      ],
      "source": [
        "import pickle\n",
        "import numpy as np\n",
        "\n",
        "with open('../video_features/resnet_features.pkl', 'rb') as f:\n",
        "    video_features_dict = pickle.load(f)\n",
        "\n",
        "for k in video_features_dict:\n",
        "    video_features_dict[k] = np.mean(video_features_dict[k], axis=0)\n",
        "\n",
        "video_features_dict[list(video_features_dict.keys())[0]].shape"
      ]
    },
    {
      "cell_type": "code",
      "execution_count": 26,
      "metadata": {},
      "outputs": [
        {
          "data": {
            "text/plain": [
              "(690, 2048)"
            ]
          },
          "execution_count": 26,
          "metadata": {},
          "output_type": "execute_result"
        }
      ],
      "source": [
        "data = pd.read_csv('../datasets/mustard_dataset/sarcasm_with_id.csv')\n",
        "video_features = []\n",
        "\n",
        "ids = list(data['id'])\n",
        "\n",
        "for i in ids:\n",
        "    if i[-2:] == \"_1\":\n",
        "        video_features.append(video_features_dict[i[:-2]])\n",
        "\n",
        "video_features = np.array(video_features)\n",
        "video_features.shape"
      ]
    },
    {
      "cell_type": "code",
      "execution_count": 27,
      "metadata": {},
      "outputs": [
        {
          "data": {
            "text/plain": [
              "(690, 100)"
            ]
          },
          "execution_count": 27,
          "metadata": {},
          "output_type": "execute_result"
        }
      ],
      "source": [
        "data = pd.read_csv('../datasets/mustard_dataset/sarcasm_data.csv').dropna(axis=0,how='any')\n",
        "\n",
        "features = data['text'].to_list()\n",
        "labels = data['sarcasm'].to_list()\n",
        "\n",
        "text_features = np.load(textEmbeddingFile)\n",
        "text_features.shape"
      ]
    },
    {
      "cell_type": "code",
      "execution_count": 28,
      "metadata": {},
      "outputs": [
        {
          "data": {
            "text/plain": [
              "(64, 1)"
            ]
          },
          "execution_count": 28,
          "metadata": {},
          "output_type": "execute_result"
        }
      ],
      "source": [
        "with open('../audio embeddins/features(1).pickle', 'rb') as f:\n",
        "    audio_features_dict = pickle.load(f)\n",
        "\n",
        "for k in audio_features_dict:\n",
        "    audio_features_dict[k] = np.mean(audio_features_dict[k], axis=0)\n",
        "\n",
        "audio_features_dict[list(audio_features_dict.keys())[0]].shape"
      ]
    },
    {
      "cell_type": "code",
      "execution_count": 29,
      "metadata": {},
      "outputs": [
        {
          "data": {
            "text/plain": [
              "(690, 64)"
            ]
          },
          "execution_count": 29,
          "metadata": {},
          "output_type": "execute_result"
        }
      ],
      "source": [
        "data = pd.read_csv('../datasets/mustard_dataset/sarcasm_with_id.csv')\n",
        "audio_features = []\n",
        "\n",
        "ids = list(data['id'])\n",
        "\n",
        "for i in ids:\n",
        "    if i[-2:] == \"_1\":\n",
        "        audio_features.append(audio_features_dict[i[:-2]+'.wav'])\n",
        "\n",
        "audio_features = np.squeeze(np.array(audio_features))\n",
        "audio_features.shape"
      ]
    },
    {
      "cell_type": "code",
      "execution_count": 30,
      "metadata": {
        "id": "UMzIrHz9T9yq"
      },
      "outputs": [],
      "source": [
        "def svm_train(features,labels):\n",
        "    clf = make_pipeline(\n",
        "        StandardScaler(),\n",
        "        svm.SVC(C=15.0, gamma=\"scale\", kernel=\"rbf\")\n",
        "    )\n",
        "    return clf.fit(features, labels)\n",
        "\n",
        "\n",
        "def svm_test(clf,features,labels):\n",
        "    pred = clf.predict(features)\n",
        "    true = labels\n",
        "\n",
        "    result_string = classification_report(true, pred, digits=3, output_dict=True)\n",
        "    # print(confusion_matrix(true, pred))\n",
        "    # print(result_string)\n",
        "    return result_string"
      ]
    },
    {
      "cell_type": "code",
      "execution_count": 31,
      "metadata": {},
      "outputs": [],
      "source": [
        "from sklearn.model_selection import StratifiedKFold\n",
        "\n",
        "def kFoldResults(features, n_splits=5):\n",
        "\n",
        "    kf = StratifiedKFold(n_splits, shuffle=True, random_state=RANDOM_STATE)\n",
        "\n",
        "    results = []\n",
        "\n",
        "    for train_index, test_index in kf.split(features, labels):\n",
        "        train_x = [features[index] for index in train_index]\n",
        "        train_y = [labels[index] for index in train_index]\n",
        "        test_x = [features[index] for index in test_index]\n",
        "        test_y = [labels[index] for index in test_index]\n",
        "        clf = svm_train(train_x,train_y)\n",
        "        resString = svm_test(clf,test_x,test_y)\n",
        "        results.append([\n",
        "            resString['macro avg']['precision'],\n",
        "            resString['macro avg']['recall'],\n",
        "            resString['macro avg']['f1-score'],\n",
        "            resString['accuracy']\n",
        "        ])\n",
        "\n",
        "    res = np.mean(np.array(results), axis=0)\n",
        "    print(\"Precision:\",round(res[0], 4))\n",
        "    print(\"recall:\",round(res[1], 4))\n",
        "    print(\"accuracy:\",round(res[3], 4))\n",
        "    print(\"f1-score:\",round(res[2], 4))"
      ]
    },
    {
      "cell_type": "code",
      "execution_count": 36,
      "metadata": {},
      "outputs": [
        {
          "name": "stdout",
          "output_type": "stream",
          "text": [
            "Text + Video + Audio\n",
            "Precision: 0.6997\n",
            "recall: 0.6971\n",
            "accuracy: 0.6971\n",
            "f1-score: 0.6959\n"
          ]
        }
      ],
      "source": [
        "print(\"Text + Video + Audio\")\n",
        "kFoldResults(np.concatenate((video_features, audio_features, text_features), axis=1))"
      ]
    },
    {
      "cell_type": "code",
      "execution_count": 37,
      "metadata": {},
      "outputs": [
        {
          "name": "stdout",
          "output_type": "stream",
          "text": [
            "Text + Video\n",
            "Precision: 0.6766\n",
            "recall: 0.671\n",
            "accuracy: 0.671\n",
            "f1-score: 0.6677\n"
          ]
        }
      ],
      "source": [
        "print(\"Text + Video\")\n",
        "kFoldResults(np.concatenate((video_features, text_features), axis=1))"
      ]
    },
    {
      "cell_type": "code",
      "execution_count": 17,
      "metadata": {},
      "outputs": [
        {
          "name": "stdout",
          "output_type": "stream",
          "text": [
            "Audio + Video\n",
            "Precision: 0.6937\n",
            "recall: 0.6913\n",
            "accuracy: 0.6913\n",
            "f1-score: 0.6901\n"
          ]
        }
      ],
      "source": [
        "print(\"Audio + Video\")\n",
        "kFoldResults(np.concatenate((video_features, audio_features), axis=1))"
      ]
    },
    {
      "cell_type": "code",
      "execution_count": 39,
      "metadata": {},
      "outputs": [
        {
          "name": "stdout",
          "output_type": "stream",
          "text": [
            "Audio + Text\n",
            "Precision: 0.6384\n",
            "recall: 0.6377\n",
            "accuracy: 0.6377\n",
            "f1-score: 0.6369\n"
          ]
        }
      ],
      "source": [
        "print(\"Audio + Text\")\n",
        "kFoldResults(np.concatenate((audio_features, text_features), axis=1))"
      ]
    },
    {
      "cell_type": "code",
      "execution_count": 38,
      "metadata": {},
      "outputs": [
        {
          "name": "stdout",
          "output_type": "stream",
          "text": [
            "Text Only\n",
            "Precision: 0.5364\n",
            "recall: 0.5362\n",
            "accuracy: 0.5362\n",
            "f1-score: 0.5349\n"
          ]
        }
      ],
      "source": [
        "print(\"Text Only\")\n",
        "kFoldResults(text_features)"
      ]
    },
    {
      "cell_type": "code",
      "execution_count": 20,
      "metadata": {},
      "outputs": [
        {
          "name": "stdout",
          "output_type": "stream",
          "text": [
            "Video Only\n",
            "Precision: 0.6582\n",
            "recall: 0.6551\n",
            "accuracy: 0.6551\n",
            "f1-score: 0.653\n"
          ]
        }
      ],
      "source": [
        "print(\"Video Only\")\n",
        "kFoldResults(video_features)"
      ]
    },
    {
      "cell_type": "code",
      "execution_count": 21,
      "metadata": {},
      "outputs": [
        {
          "name": "stdout",
          "output_type": "stream",
          "text": [
            "Audio Only\n",
            "Precision: 0.6569\n",
            "recall: 0.6565\n",
            "accuracy: 0.6565\n",
            "f1-score: 0.6563\n"
          ]
        }
      ],
      "source": [
        "print(\"Audio Only\")\n",
        "kFoldResults(audio_features)"
      ]
    }
  ],
  "metadata": {
    "colab": {
      "name": "svm.ipynb",
      "provenance": []
    },
    "kernelspec": {
      "display_name": "Python 3.10.4 64-bit",
      "language": "python",
      "name": "python3"
    },
    "language_info": {
      "codemirror_mode": {
        "name": "ipython",
        "version": 3
      },
      "file_extension": ".py",
      "mimetype": "text/x-python",
      "name": "python",
      "nbconvert_exporter": "python",
      "pygments_lexer": "ipython3",
      "version": "3.10.4"
    },
    "orig_nbformat": 4,
    "vscode": {
      "interpreter": {
        "hash": "54382ae67bf97b4da5fbc6bddc0d7ed644b3797b6f0fd66a4d7a68da377cfe58"
      }
    }
  },
  "nbformat": 4,
  "nbformat_minor": 0
}
