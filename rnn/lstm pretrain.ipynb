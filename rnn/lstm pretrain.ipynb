{
 "cells": [
  {
   "cell_type": "code",
   "execution_count": 1,
   "metadata": {},
   "outputs": [
    {
     "name": "stderr",
     "output_type": "stream",
     "text": [
      "2022-05-13 12:09:38.860165: W tensorflow/stream_executor/platform/default/dso_loader.cc:64] Could not load dynamic library 'libcudart.so.11.0'; dlerror: libcudart.so.11.0: cannot open shared object file: No such file or directory\n",
      "2022-05-13 12:09:38.860188: I tensorflow/stream_executor/cuda/cudart_stub.cc:29] Ignore above cudart dlerror if you do not have a GPU set up on your machine.\n",
      "[nltk_data] Downloading package stopwords to\n",
      "[nltk_data]     /home/vaibhav/nltk_data...\n",
      "[nltk_data]   Package stopwords is already up-to-date!\n",
      "[nltk_data] Downloading package punkt to /home/vaibhav/nltk_data...\n",
      "[nltk_data]   Package punkt is already up-to-date!\n",
      "[nltk_data] Downloading package averaged_perceptron_tagger to\n",
      "[nltk_data]     /home/vaibhav/nltk_data...\n",
      "[nltk_data]   Package averaged_perceptron_tagger is already up-to-\n",
      "[nltk_data]       date!\n",
      "[nltk_data] Downloading package wordnet to /home/vaibhav/nltk_data...\n",
      "[nltk_data]   Package wordnet is already up-to-date!\n"
     ]
    }
   ],
   "source": [
    "import numpy as np\n",
    "import pandas as pd\n",
    "import re\n",
    "from keras.preprocessing.text import Tokenizer\n",
    "from sklearn.utils import shuffle\n",
    "from matplotlib import pyplot as plt\n",
    "from keras.models import Sequential, load_model\n",
    "from keras.layers import LSTM, Dense, Dropout, Embedding, Masking, Bidirectional\n",
    "from tensorflow.keras.optimizers import Adam\n",
    "from keras.preprocessing.sequence import pad_sequences\n",
    "from tensorflow.keras.utils import plot_model\n",
    "import nltk\n",
    "from nltk import word_tokenize\n",
    "from nltk.corpus import stopwords\n",
    "from nltk.stem import WordNetLemmatizer\n",
    "import re\n",
    "nltk.download('stopwords')\n",
    "nltk.download('punkt')\n",
    "nltk.download('averaged_perceptron_tagger')\n",
    "nltk.download('wordnet')\n",
    "lem = WordNetLemmatizer()\n",
    "RANDOM_STATE = 50\n",
    "UNK_ID = 1\n",
    "PAD_ID = 0\n",
    "MAX_LEN = 20"
   ]
  },
  {
   "cell_type": "code",
   "execution_count": 2,
   "metadata": {},
   "outputs": [],
   "source": [
    "def format_sequence(s):\n",
    "    s =  re.sub(r'(?<=[^\\s0-9])(?=[.,;?])', r' ', s)\n",
    "    s = re.sub(r'\\((\\d+)\\)', r'', s)\n",
    "    s = re.sub(r'\\s\\s', ' ', s)\n",
    "    s = re.sub(r\"[^A-Za-z0-9(),!?\\'`]\", \" \", s)\n",
    "    s = re.sub(r\"\\'s\", \" \\'s\", s)\n",
    "    s = re.sub(r\"\\'ve\", \" \\'ve\", s)\n",
    "    s = re.sub(r\"n\\'t\", \" n\\'t\", s)\n",
    "    s = re.sub(r\"\\'re\", \" \\'re\", s)\n",
    "    s = re.sub(r\"\\'d\", \" \\'d\", s)\n",
    "    s = re.sub(r\"\\'ll\", \" \\'ll\", s)\n",
    "    s = re.sub(r\",\", \" , \", s)\n",
    "    s = re.sub(r\"!\", \" ! \", s)\n",
    "    s = re.sub(r\"\\\"\", \" \\\" \", s)\n",
    "    s = re.sub(r\"\\(\", \" ( \", s)\n",
    "    s = re.sub(r\"\\)\", \" ) \", s)\n",
    "    s = re.sub(r\"\\?\", \" ? \", s)\n",
    "    s = re.sub(r\"\\s{2,}\", \" \", s)\n",
    "    s = re.sub(r\"\\.\", \" . \", s)\n",
    "    s = re.sub(r\"., \", \" , \", s)\n",
    "    s = re.sub(r\"\\\\n\", \" \", s)\n",
    "    return s.strip().lower()\n",
    "\n",
    "def make_sequences(arr,lower=True,filters='!\"#$%&()*+,-./:;<=>?@[\\\\]^_`{|}~\\t\\n'):\n",
    "    tokenizer = Tokenizer(lower=lower, filters=filters)\n",
    "    tokenizer.fit_on_texts(arr)\n",
    "\n",
    "    word_idx = tokenizer.word_index\n",
    "    idx_word = tokenizer.index_word\n",
    "    num_words = len(word_idx) + 1\n",
    "    word_counts = tokenizer.word_counts\n",
    "\n",
    "    features = tokenizer.texts_to_sequences(arr)\n",
    "    \n",
    "    print(f'There are {len(features)} sequences.')\n",
    "\n",
    "    features = np.array(features)\n",
    "\n",
    "    return word_idx,idx_word,num_words,word_counts,features\n",
    "\n",
    "def create_train_valid(features,labels,num_words,train_fraction = 0.7,max_valid=1000):\n",
    "\n",
    "    # features,labels = shuffle(features,labels,random_state = RANDOM_STATE)\n",
    "\n",
    "    train_end = max(int(train_fraction*len(labels)),len(labels)-max_valid)\n",
    "\n",
    "    train_features = np.asarray(features[:train_end])\n",
    "    valid_features = np.asarray(features[train_end:])\n",
    "\n",
    "    train_labels = np.asarray(labels[:train_end])\n",
    "    valid_labels = np.asarray(labels[train_end:])\n",
    "    \n",
    "    return train_features,valid_features,train_labels,valid_labels"
   ]
  },
  {
   "cell_type": "code",
   "execution_count": 4,
   "metadata": {},
   "outputs": [
    {
     "name": "stderr",
     "output_type": "stream",
     "text": [
      "/tmp/ipykernel_30487/2121837504.py:3: FutureWarning: The default value of regex will change from True to False in a future version.\n",
      "  data['text'].str.replace('[^a-zA-Z]', ' ')\n"
     ]
    },
    {
     "name": "stdout",
     "output_type": "stream",
     "text": [
      "There are 26709 sequences.\n"
     ]
    },
    {
     "name": "stderr",
     "output_type": "stream",
     "text": [
      "/tmp/ipykernel_30487/302809221.py:37: VisibleDeprecationWarning: Creating an ndarray from ragged nested sequences (which is a list-or-tuple of lists-or-tuples-or ndarrays with different lengths or shapes) is deprecated. If you meant to do this, you must specify 'dtype=object' when creating the ndarray.\n",
      "  features = np.array(features)\n"
     ]
    }
   ],
   "source": [
    "data = pd.read_csv('../datasets/dataset.csv').dropna(axis=0,how='any')\n",
    "# print(data.columns)\n",
    "data['text'].str.replace('[^a-zA-Z]', ' ')\n",
    "\n",
    "text = [format_sequence(a) for a in data['text'].to_list()]\n",
    "labels = data['label'].to_list()\n",
    "\n",
    "lower = False\n",
    "filters = '!\"%;[\\\\]^_`{|}~\\t\\n'\n",
    "\n",
    "word_idx,idx_word,num_words,word_counts,features = make_sequences(text,lower,filters)\n",
    "X_train, X_valid, y_train, y_valid = create_train_valid(features,labels,num_words,train_fraction=1)\n",
    "training_dict = {'X_train': X_train, 'X_valid': X_valid,'y_train': y_train, 'y_valid': y_valid}\n",
    "\n"
   ]
  },
  {
   "cell_type": "code",
   "execution_count": 5,
   "metadata": {},
   "outputs": [],
   "source": [
    "glove_loc = '../glove.6B.100d.txt'\n",
    "glove = np.loadtxt(glove_loc,dtype='str',comments=None)\n",
    "\n",
    "vectors = glove[:,1:].astype('float')\n",
    "words = glove[:,0]\n",
    "\n",
    "del glove"
   ]
  },
  {
   "cell_type": "code",
   "execution_count": 6,
   "metadata": {},
   "outputs": [
    {
     "name": "stdout",
     "output_type": "stream",
     "text": [
      "4421 words not found.\n"
     ]
    }
   ],
   "source": [
    "word_lookup = {word:vector for word,vector in zip(words,vectors)}\n",
    "\n",
    "embedding_matrix = np.zeros((num_words, vectors.shape[1]))\n",
    "\n",
    "not_found = 0\n",
    "\n",
    "for i,word in enumerate(word_idx.keys()):\n",
    "    vector = word_lookup.get(word,None)\n",
    "\n",
    "    if vector is not None:\n",
    "        embedding_matrix[i+1,:] = vector\n",
    "    else:\n",
    "        not_found +=1\n",
    "\n",
    "embedding_matrix = np.nan_to_num(embedding_matrix)\n",
    "\n",
    "print(f'{not_found} words not found.')"
   ]
  },
  {
   "cell_type": "code",
   "execution_count": 8,
   "metadata": {},
   "outputs": [
    {
     "name": "stdout",
     "output_type": "stream",
     "text": [
      "Epoch 1/25\n",
      "418/418 [==============================] - 30s 63ms/step - loss: 0.5413 - accuracy: 0.7282\n",
      "Epoch 2/25\n",
      "418/418 [==============================] - 26s 63ms/step - loss: 0.4271 - accuracy: 0.8223\n",
      "Epoch 3/25\n",
      "418/418 [==============================] - 25s 59ms/step - loss: 0.3847 - accuracy: 0.8435\n",
      "Epoch 4/25\n",
      "418/418 [==============================] - 23s 54ms/step - loss: 0.3558 - accuracy: 0.8591\n",
      "Epoch 5/25\n",
      "418/418 [==============================] - 24s 57ms/step - loss: 0.3333 - accuracy: 0.8701\n",
      "Epoch 6/25\n",
      "418/418 [==============================] - 22s 52ms/step - loss: 0.3164 - accuracy: 0.8730\n",
      "Epoch 7/25\n",
      "418/418 [==============================] - 23s 55ms/step - loss: 0.2993 - accuracy: 0.8851\n",
      "Epoch 8/25\n",
      "418/418 [==============================] - 28s 67ms/step - loss: 0.2840 - accuracy: 0.8889\n",
      "Epoch 9/25\n",
      "418/418 [==============================] - 26s 62ms/step - loss: 0.2718 - accuracy: 0.8936\n",
      "Epoch 10/25\n",
      "418/418 [==============================] - 20s 47ms/step - loss: 0.2626 - accuracy: 0.8987\n",
      "Epoch 11/25\n",
      "418/418 [==============================] - 21s 51ms/step - loss: 0.2490 - accuracy: 0.9025\n",
      "Epoch 12/25\n",
      "418/418 [==============================] - 22s 53ms/step - loss: 0.2421 - accuracy: 0.9068\n",
      "Epoch 13/25\n",
      "418/418 [==============================] - 20s 48ms/step - loss: 0.2335 - accuracy: 0.9119\n",
      "Epoch 14/25\n",
      "418/418 [==============================] - 20s 48ms/step - loss: 0.2256 - accuracy: 0.9122\n",
      "Epoch 15/25\n",
      "418/418 [==============================] - 20s 48ms/step - loss: 0.2139 - accuracy: 0.9189\n",
      "Epoch 16/25\n",
      "418/418 [==============================] - 24s 56ms/step - loss: 0.2120 - accuracy: 0.9201\n",
      "Epoch 17/25\n",
      "418/418 [==============================] - 22s 53ms/step - loss: 0.2042 - accuracy: 0.9200\n",
      "Epoch 18/25\n",
      "418/418 [==============================] - 22s 52ms/step - loss: 0.1956 - accuracy: 0.9243\n",
      "Epoch 19/25\n",
      "418/418 [==============================] - 24s 56ms/step - loss: 0.1897 - accuracy: 0.9289\n",
      "Epoch 20/25\n",
      "418/418 [==============================] - 24s 56ms/step - loss: 0.1876 - accuracy: 0.9273\n",
      "Epoch 21/25\n",
      "418/418 [==============================] - 24s 57ms/step - loss: 0.1784 - accuracy: 0.9305\n",
      "Epoch 22/25\n",
      "418/418 [==============================] - 24s 57ms/step - loss: 0.1723 - accuracy: 0.9326\n",
      "Epoch 23/25\n",
      "418/418 [==============================] - 24s 57ms/step - loss: 0.1700 - accuracy: 0.9342\n",
      "Epoch 24/25\n",
      "418/418 [==============================] - 25s 60ms/step - loss: 0.1593 - accuracy: 0.9376\n",
      "Epoch 25/25\n",
      "418/418 [==============================] - 24s 57ms/step - loss: 0.1586 - accuracy: 0.9392\n"
     ]
    }
   ],
   "source": [
    "model = Sequential()\n",
    "\n",
    "model.add(Embedding(input_dim=len(word_idx)+1,output_dim=100,weights=[embedding_matrix],trainable=False))\n",
    "\n",
    "model.add(Bidirectional(LSTM(64,return_sequences=False,dropout=0.2,recurrent_dropout=0.2)))\n",
    "\n",
    "# model.add(Bidirectional(LSTM(64,return_sequences=False,dropout=0.3,recurrent_dropout=0.1)))\n",
    "\n",
    "model.add(Dense(64,activation='relu'))\n",
    "\n",
    "model.add(Dense(32,activation='relu'))\n",
    "\n",
    "model.add(Dense(16,activation='relu'))\n",
    "\n",
    "model.add(Dropout(0.5))\n",
    "\n",
    "model.add(Dense(1,activation='sigmoid'))\n",
    "\n",
    "model.compile(optimizer='Adam',loss='binary_crossentropy',metrics=['accuracy'])\n",
    "\n",
    "x = np.array(training_dict['X_train'])\n",
    "y = np.array(training_dict['y_train']).astype(np.float32)\n",
    "\n",
    "# model = load_model('./models/model1')\n",
    "\n",
    "x =     pad_sequences(x,padding=\"post\")\n",
    "\n",
    "\n",
    "history = model.fit(x, y, epochs = 25, batch_size = 64, \n",
    "        \n",
    "        verbose = 1)\n"
   ]
  },
  {
   "cell_type": "code",
   "execution_count": 12,
   "metadata": {},
   "outputs": [
    {
     "name": "stderr",
     "output_type": "stream",
     "text": [
      "2022-05-13 12:36:04.547336: W tensorflow/python/util/util.cc:368] Sets are not currently considered sequences, but this may change in the future, so consider avoiding using them.\n"
     ]
    },
    {
     "name": "stdout",
     "output_type": "stream",
     "text": [
      "INFO:tensorflow:Assets written to: ./models/model1/assets\n"
     ]
    },
    {
     "name": "stderr",
     "output_type": "stream",
     "text": [
      "WARNING:absl:<keras.layers.recurrent.LSTMCell object at 0x7f58dac55e80> has the same name 'LSTMCell' as a built-in Keras object. Consider renaming <class 'keras.layers.recurrent.LSTMCell'> to avoid naming conflicts when loading with `tf.keras.models.load_model`. If renaming is not possible, pass the object in the `custom_objects` parameter of the load function.\n",
      "WARNING:absl:<keras.layers.recurrent.LSTMCell object at 0x7f58d3c63220> has the same name 'LSTMCell' as a built-in Keras object. Consider renaming <class 'keras.layers.recurrent.LSTMCell'> to avoid naming conflicts when loading with `tf.keras.models.load_model`. If renaming is not possible, pass the object in the `custom_objects` parameter of the load function.\n"
     ]
    },
    {
     "name": "stdout",
     "output_type": "stream",
     "text": [
      "418/418 [==============================] - 7s 15ms/step - loss: 0.0647 - accuracy: 0.9797\n"
     ]
    },
    {
     "data": {
      "text/plain": [
       "[0.06473221629858017, 0.9796697497367859]"
      ]
     },
     "execution_count": 12,
     "metadata": {},
     "output_type": "execute_result"
    }
   ],
   "source": [
    "model.save('./models/model1')\n",
    "\n",
    "model.evaluate(x,y,batch_size=64)"
   ]
  },
  {
   "cell_type": "code",
   "execution_count": 10,
   "metadata": {},
   "outputs": [
    {
     "data": {
      "image/png": "[encoded data removed]",
      "text/plain": [
       "<Figure size 432x288 with 1 Axes>"
      ]
     },
     "metadata": {
      "needs_background": "light"
     },
     "output_type": "display_data"
    }
   ],
   "source": [
    "plt.plot(history.history['accuracy'])\n",
    "# plt.plot(history.history['val_accuracy'])\n",
    "plt.title('model accuracy')\n",
    "plt.ylabel('accuracy')\n",
    "plt.xlabel('epoch')\n",
    "plt.legend(['train', 'val'], loc='upper left')\n",
    "plt.show()"
   ]
  },
  {
   "cell_type": "code",
   "execution_count": 11,
   "metadata": {},
   "outputs": [
    {
     "data": {
      "image/png": "[encoded data removed]",
      "text/plain": [
       "<Figure size 432x288 with 1 Axes>"
      ]
     },
     "metadata": {
      "needs_background": "light"
     },
     "output_type": "display_data"
    }
   ],
   "source": [
    "plt.plot(history.history['loss'])\n",
    "# plt.plot(history.history['val_loss'])\n",
    "plt.title('model loss')\n",
    "plt.ylabel('loss')\n",
    "plt.xlabel('epoch')\n",
    "plt.legend(['train', 'val'], loc='upper left')\n",
    "plt.show()"
   ]
  },
  {
   "cell_type": "code",
   "execution_count": null,
   "metadata": {},
   "outputs": [],
   "source": [
    "from IPython.display import Image\n",
    "model_name = 'model1'\n",
    "model_dir = './models/'\n",
    "\n",
    "plot_model(model, to_file=f'{model_dir}{model_name}.png', show_shapes=True)\n",
    "\n",
    "Image(f'{model_dir}{model_name}.png')\n",
    "\n"
   ]
  },
  {
   "cell_type": "code",
   "execution_count": null,
   "metadata": {},
   "outputs": [],
   "source": [
    "str = ['']\n",
    "\n",
    "tokenizer = Tokenizer(lower=lower, filters=filters)\n",
    "tokenizer.fit_on_texts(str)\n",
    "\n",
    "tx = tokenizer.texts_to_sequences(str)\n",
    "print(tx)\n",
    "print(model.predict(tx)[0])"
   ]
  }
 ],
 "metadata": {
  "interpreter": {
   "hash": "8296d0786e9b384ebb7f91942e232033740bae4a9ae1f1bba7a3651c8060b4f0"
  },
  "kernelspec": {
   "display_name": "Python 3.9.7 ('base')",
   "language": "python",
   "name": "python3"
  },
  "language_info": {
   "codemirror_mode": {
    "name": "ipython",
    "version": 3
   },
   "file_extension": ".py",
   "mimetype": "text/x-python",
   "name": "python",
   "nbconvert_exporter": "python",
   "pygments_lexer": "ipython3",
   "version": "3.9.7"
  },
  "orig_nbformat": 4
 },
 "nbformat": 4,
 "nbformat_minor": 2
}
