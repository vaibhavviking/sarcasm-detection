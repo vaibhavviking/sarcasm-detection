{
  "nbformat": 4,
  "nbformat_minor": 0,
  "metadata": {
    "colab": {
      "provenance": []
    },
    "kernelspec": {
      "name": "python3",
      "display_name": "Python 3"
    },
    "language_info": {
      "name": "python"
    }
  },
  "cells": [
    {
      "cell_type": "code",
      "execution_count": null,
      "metadata": {
        "id": "hXoBmgy33Wcd"
      },
      "outputs": [],
      "source": [
        "from PIL import Image\n",
        "import tensorflow as tf\n",
        "import numpy as np\n",
        "import torch\n",
        "import torch.nn as nn\n",
        "import torchvision.models as models\n",
        "import torchvision.transforms as transforms\n",
        "from torch.autograd import Variable\n",
        "from PIL import Image\n",
        "import numpy as np\n",
        "import os\n",
        "# import cv2\n",
        "import pickle\n",
        "from tqdm import tqdm"
      ]
    },
    {
      "cell_type": "code",
      "source": [
        "inputs = tf.keras.Input(shape=(224, 224, 3),batch_size=1, name=\"digits\")\n",
        "outputs = tf.keras.applications.InceptionResNetV2(\n",
        "    include_top=False,\n",
        "    weights=\"imagenet\",\n",
        "    input_shape=(224, 224, 3),\n",
        "    pooling='avg',\n",
        "    classes=1000,\n",
        ")(inputs)\n",
        "\n",
        "model = tf.keras.Model(inputs=inputs, outputs=outputs)"
      ],
      "metadata": {
        "id": "YKvEYhQv3gMv"
      },
      "execution_count": null,
      "outputs": []
    },
    {
      "cell_type": "code",
      "source": [
        "# Block fc layer\n",
        "class Identity(nn.Module):\n",
        "\tdef forward(self, x):\n",
        "\t\treturn x\n",
        "\n",
        "# Image transforms\n",
        "transf = transforms.Compose([\n",
        "        transforms.Resize(256),\n",
        "        transforms.CenterCrop(224),\n",
        "        transforms.ToTensor(),\n",
        "        transforms.Normalize(mean=[0.485, 0.456, 0.406], std=[0.229, 0.224, 0.225]),\n",
        "    ])\n",
        "\n",
        "\n",
        "def get_frames(frames_folder_path):\n",
        "\t# Get all frame file names\n",
        "\tframes = None\n",
        "\tframes_file = os.listdir(frames_folder_path)\n",
        "\tfor i,frame_file_name in enumerate(frames_file):\n",
        "\t\tframe = Image.open(os.path.join(frames_folder_path, frame_file_name))\n",
        "\t\tframe = transf(frame)\n",
        "\n",
        "\t\tif frames is None:\n",
        "\t\t\tframes = np.empty((len(frames_file), *frame.size()))\n",
        "\t\tframes[i] = frame\n",
        "\n",
        "\treturn frames\n",
        "\n",
        "\n",
        "def frames_features(frames_folder_path):\n",
        "  frames = get_frames(frames_folder_path)\n",
        "  # Run the model on input data\n",
        "  output = None\n",
        "  batch_size = 1                # 10 for PC\n",
        "  for start_index in range(0, len(frames), batch_size):\n",
        "    end_index = min(start_index + batch_size, len(frames))\n",
        "    frame_range = range(start_index, end_index)\n",
        "    frame_batch = frames[frame_range]\n",
        "    frame_batch = np.moveaxis(frame_batch,1,3)\n",
        "#     frame_batch = np.reshape(frame_batch,(1,224,224,3))\n",
        "    avg_pool_value = model(frame_batch)\n",
        "    if output is not None:\n",
        "      output=np.concatenate((output,np.array(avg_pool_value))) \n",
        "    else:\n",
        "      output=np.array(avg_pool_value)\n",
        "\n",
        "\n",
        "  return output\n",
        "\n",
        "features = {}\n",
        "\n",
        "def videos_features(frames_folders_path, videos_path, save_path):\n",
        "    # frames_folders_path: path to all video frames folders\n",
        "    # video_path: path ot original videos\n",
        "    n_frames = len(os.listdir(frames_folders_path))\n",
        "    frames_folders = os.listdir(frames_folders_path)\n",
        "    for frames_folder in tqdm(frames_folders, ncols=100, ascii=True):\n",
        "        video_feature = {}\n",
        "        video_name = os.path.join(videos_path, frames_folder + '.mp4')\n",
        "        frames_folder_path = os.path.join(frames_folders_path, frames_folder)\n",
        "        # cam = cv2.VideoCapture(video_name)\n",
        "        # fps = round(cam.get(cv2.CAP_PROP_FPS), 0)\n",
        "        feat = frames_features(frames_folder_path)\n",
        "        # video_feature['fps'] = fps\n",
        "        video_feature['resnet152'] = feat\n",
        "        features[frames_folder] = video_feature\n",
        "        #print(\"Process video {} FPS {} shape {}\".format(frames_folder, fps, feat.shape))\n",
        "\n",
        "    f = open(save_path,'wb')\n",
        "    pickle.dump(features, f)\n",
        "\n",
        "\n",
        "def main():\n",
        "\tframes_folders_path = \"/content/drive/MyDrive/Frames\"\n",
        "\tvideos_path = \"/content/drive/MyDrive/mmsd_raw_data/utterances_final\"\n",
        "\tvideos_features(frames_folders_path, videos_path, '/content/drive/MyDrive/inception_video_features_2.pkl')\n",
        "\n",
        "\n",
        "if __name__ == '__main__':\n",
        "\tmain()"
      ],
      "metadata": {
        "id": "Vg4qfTsi3g0O"
      },
      "execution_count": null,
      "outputs": []
    }
  ]
}