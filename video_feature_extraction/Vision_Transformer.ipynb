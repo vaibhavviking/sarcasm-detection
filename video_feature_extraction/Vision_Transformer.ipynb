{
  "nbformat": 4,
  "nbformat_minor": 0,
  "metadata": {
    "colab": {
      "provenance": []
    },
    "kernelspec": {
      "name": "python3",
      "display_name": "Python 3"
    },
    "language_info": {
      "name": "python"
    },
    "accelerator": "GPU"
  },
  "cells": [
    {
      "cell_type": "code",
      "execution_count": null,
      "metadata": {
        "id": "H8t4CsLtaOnn"
      },
      "outputs": [],
      "source": [
        "import torch\n",
        "import torch.nn as nn\n",
        "import torchvision.models as models\n",
        "import torchvision.transforms as transforms\n",
        "from torch.autograd import Variable\n",
        "from PIL import Image\n",
        "import numpy as np\n",
        "import os\n",
        "import pickle\n",
        "from tqdm import tqdm"
      ]
    },
    {
      "cell_type": "code",
      "source": [
        "DEVICE = torch.device('cuda:0' if torch.cuda.is_available() else 'cpu')"
      ],
      "metadata": {
        "id": "XvochMFMkGy6"
      },
      "execution_count": null,
      "outputs": []
    },
    {
      "cell_type": "code",
      "source": [
        "vit = models.vit_h_14(weights = 'IMAGENET1K_SWAG_E2E_V1',progress=True)\n",
        "vit = vit.to(DEVICE)"
      ],
      "metadata": {
        "id": "1PRpJva6aT8S"
      },
      "execution_count": null,
      "outputs": []
    },
    {
      "cell_type": "code",
      "source": [
        "transf = transforms.Compose([\n",
        "        transforms.Resize(518),\n",
        "        transforms.CenterCrop(518),\n",
        "        transforms.ToTensor(),\n",
        "        transforms.Normalize(mean=[0.485, 0.456, 0.406], std=[0.229, 0.224, 0.225]),\n",
        "    ])\n",
        "\n",
        "\n",
        "def get_frames(frames_folder_path):\n",
        "\t# Get all frame file names\n",
        "  frames = None\n",
        "\n",
        "  frames_file = os.listdir(frames_folder_path)\n",
        "  for i,frame_file_name in enumerate(frames_file):\n",
        "    frame = Image.open(os.path.join(frames_folder_path, frame_file_name))\n",
        "    frame = transf(frame)\n",
        "\n",
        "    if frames is None:\n",
        "      frames = torch.empty((len(frames_file), *frame.size()))\n",
        "    frames[i] = frame\n",
        "\n",
        "  return frames\n",
        "\n",
        "\n",
        "def frames_features(frames_folder_path):\n",
        "  frames = get_frames(frames_folder_path)\n",
        "  # frames = frames.to(DEVICE)\n",
        "  frames = frames.to(DEVICE)\n",
        "  # Run the model on input data\n",
        "  output = []\n",
        "  batch_size = 32                # 10 for PC\n",
        "  for start_index in range(0, len(frames), batch_size):\n",
        "    end_index = min(start_index + batch_size, len(frames))\n",
        "    frame_range = range(start_index, end_index)\n",
        "    frame_batch = frames[frame_range]\n",
        "    # frame_batch.to(DEVICE)\n",
        "    avg_pool_value = vit(frame_batch)\n",
        "    # frame_batch.to('cpu')\n",
        "    output.append(avg_pool_value.detach().cpu().numpy())\n",
        "\n",
        "  output = np.concatenate(output)\n",
        "\n",
        "  return output\n",
        "\n",
        "features = {}\n",
        "\n",
        "def videos_features(frames_folders_path, videos_path, save_path):\n",
        "  # frames_folders_path: path to all video frames folders\n",
        "  # video_path: path ot original videos\n",
        "  # n_folder = len(os.listdir(frames_folders_path))\n",
        "  frames_folders = os.listdir(frames_folders_path)\n",
        "  for frames_folder in tqdm(frames_folders, ncols=100, ascii=True):\n",
        "    video_feature = {}\n",
        "    video_name = os.path.join(videos_path, frames_folder + '.mp4')\n",
        "    frames_folder_path = os.path.join(frames_folders_path, frames_folder)\n",
        "    # cam = cv2.VideoCapture(video_name)\n",
        "    # fps = round(cam.get(cv2.CAP_PROP_FPS), 0)\n",
        "    feat = frames_features(frames_folder_path)\n",
        "    # video_feature['fps'] = fps\n",
        "    # video_feature['resnet152'] = feat\n",
        "    features[frames_folder] = feat\n",
        "    #print(\"Process video {} FPS {} shape {}\".format(frames_folder, fps, feat.shape))\n",
        "  f = open(save_path,'wb')\n",
        "  pickle.dump(features, f)\n",
        "\n",
        "\n",
        "def main():\n",
        "\tframes_folders_path = \"/content/drive/MyDrive/Frames\"\n",
        "\tvideos_path = \"/content/drive/MyDrive/mmsd_raw_data/utterances_final\"\n",
        "\tvideos_features(frames_folders_path, videos_path, '/content/drive/MyDrive/vit_h_features.pkl')\n",
        "\n",
        "\n",
        "if __name__ == '__main__':\n",
        "\tmain()"
      ],
      "metadata": {
        "id": "FNbTJ86WbYxF"
      },
      "execution_count": null,
      "outputs": []
    }
  ]
}